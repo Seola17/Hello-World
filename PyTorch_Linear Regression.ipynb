{
 "cells": [
  {
   "cell_type": "markdown",
   "metadata": {},
   "source": [
    "### Linear regression from scratch"
   ]
  },
  {
   "cell_type": "code",
   "execution_count": 10,
   "metadata": {},
   "outputs": [],
   "source": [
    "import torch\n",
    "import torch.nn as nn\n",
    "import torch.nn.functional as F\n",
    "import torch.optim as optim"
   ]
  },
  {
   "cell_type": "code",
   "execution_count": 11,
   "metadata": {},
   "outputs": [
    {
     "data": {
      "text/plain": [
       "<torch._C.Generator at 0x162673b0d90>"
      ]
     },
     "execution_count": 11,
     "metadata": {},
     "output_type": "execute_result"
    }
   ],
   "source": [
    "torch.manual_seed(1)"
   ]
  },
  {
   "cell_type": "code",
   "execution_count": 12,
   "metadata": {},
   "outputs": [],
   "source": [
    "x_train = torch.Tensor([[1], [2], [3.]])\n",
    "y_train = torch.Tensor([[4], [8], [12.]])"
   ]
  },
  {
   "cell_type": "code",
   "execution_count": 18,
   "metadata": {},
   "outputs": [],
   "source": [
    "W = torch.zeros(1, requires_grad=True)\n",
    "b = torch.zeros(1, requires_grad=True)"
   ]
  },
  {
   "cell_type": "code",
   "execution_count": 19,
   "metadata": {},
   "outputs": [
    {
     "name": "stdout",
     "output_type": "stream",
     "text": [
      "epoch:    0, loss: 224.0000, W: 1.1200, b: 0.4800\n",
      "epoch:  100, loss: 0.2200, W: 3.6878, b: 0.7098\n",
      "epoch:  200, loss: 0.0517, W: 3.8486, b: 0.3442\n",
      "epoch:  300, loss: 0.0122, W: 3.9266, b: 0.1669\n",
      "epoch:  400, loss: 0.0029, W: 3.9644, b: 0.0809\n",
      "epoch:  500, loss: 0.0007, W: 3.9827, b: 0.0392\n",
      "epoch:  600, loss: 0.0002, W: 3.9916, b: 0.0190\n",
      "epoch:  700, loss: 0.0000, W: 3.9959, b: 0.0092\n",
      "epoch:  800, loss: 0.0000, W: 3.9980, b: 0.0045\n",
      "epoch:  900, loss: 0.0000, W: 3.9990, b: 0.0022\n",
      "epoch: 1000, loss: 0.0000, W: 3.9995, b: 0.0011\n",
      "epoch: 1100, loss: 0.0000, W: 3.9998, b: 0.0005\n",
      "epoch: 1200, loss: 0.0000, W: 3.9999, b: 0.0002\n",
      "epoch: 1300, loss: 0.0000, W: 3.9999, b: 0.0001\n",
      "epoch: 1400, loss: 0.0000, W: 4.0000, b: 0.0001\n",
      "epoch: 1500, loss: 0.0000, W: 4.0000, b: 0.0000\n",
      "epoch: 1600, loss: 0.0000, W: 4.0000, b: 0.0000\n",
      "epoch: 1700, loss: 0.0000, W: 4.0000, b: 0.0000\n",
      "epoch: 1800, loss: 0.0000, W: 4.0000, b: 0.0000\n",
      "epoch: 1900, loss: 0.0000, W: 4.0000, b: 0.0000\n"
     ]
    }
   ],
   "source": [
    "nb_epochs = 1999\n",
    "optimizer = optim.SGD([W, b], lr=0.01)\n",
    "\n",
    "for epoch in range(nb_epochs):\n",
    "\n",
    "    y_pred = W * x_train + b\n",
    "    loss = ((y_pred - y_train) ** 2).sum()\n",
    "\n",
    "    optimizer.zero_grad()\n",
    "    loss.backward()\n",
    "    optimizer.step()\n",
    "\n",
    "    if epoch % 100 == 0:\n",
    "        \n",
    "        print('epoch: {:4d}, loss: {:.4f}, W: {:.4f}, b: {:.4f}'.format(epoch, loss.item(), W.item(), b.item()))"
   ]
  },
  {
   "cell_type": "markdown",
   "metadata": {},
   "source": [
    "### autograd"
   ]
  },
  {
   "cell_type": "code",
   "execution_count": 27,
   "metadata": {},
   "outputs": [
    {
     "name": "stdout",
     "output_type": "stream",
     "text": [
      "differentiated with w: 2.0\n",
      "differentiated with w: 2.0\n",
      "differentiated with w: 2.0\n"
     ]
    }
   ],
   "source": [
    "import torch\n",
    "w = torch.tensor(2.0, requires_grad=True)\n",
    "optimizer = optim.SGD([w], lr=0.01)\n",
    "\n",
    "nb_epochs = 3\n",
    "for epoch in range(nb_epochs):\n",
    "    z = 2*w\n",
    "    optimizer.zero_grad()\n",
    "    z.backward()\n",
    "    print('differentiated with w: {}'.format(w.grad))"
   ]
  },
  {
   "cell_type": "markdown",
   "metadata": {},
   "source": [
    "### nn.Module "
   ]
  },
  {
   "cell_type": "code",
   "execution_count": 46,
   "metadata": {},
   "outputs": [],
   "source": [
    "import torch\n",
    "import torch.nn as nn\n",
    "import torch.optim as optim\n",
    "import torch.nn.functional as F\n",
    "\n",
    "torch.manual_seed(1)\n",
    " \n",
    "x_train = torch.Tensor([[1.], [2], [3]])\n",
    "y_train = torch.Tensor([[4.], [8], [12]])\n",
    "\n",
    "model = nn.Linear(1, 1)\n"
   ]
  },
  {
   "cell_type": "code",
   "execution_count": 37,
   "metadata": {},
   "outputs": [
    {
     "data": {
      "text/plain": [
       "0.5152631998062134"
      ]
     },
     "execution_count": 37,
     "metadata": {},
     "output_type": "execute_result"
    }
   ],
   "source": [
    "list(model.parameters())[0].item()"
   ]
  },
  {
   "cell_type": "code",
   "execution_count": 47,
   "metadata": {},
   "outputs": [],
   "source": [
    "optimizer = optim.SGD(model.parameters(), lr=0.01)"
   ]
  },
  {
   "cell_type": "code",
   "execution_count": 48,
   "metadata": {},
   "outputs": [
    {
     "name": "stdout",
     "output_type": "stream",
     "text": [
      "epoch:    0/2000, cost: 63.0163, w: 0.8582, b: -0.2932\n",
      "epoch:  100/2000, cost: 0.0741, w: 3.6845, b: 0.7172\n",
      "epoch:  200/2000, cost: 0.0458, w: 3.7520, b: 0.5638\n",
      "epoch:  300/2000, cost: 0.0283, w: 3.8050, b: 0.4432\n",
      "epoch:  400/2000, cost: 0.0175, w: 3.8467, b: 0.3484\n",
      "epoch:  500/2000, cost: 0.0108, w: 3.8795, b: 0.2739\n",
      "epoch:  600/2000, cost: 0.0067, w: 3.9053, b: 0.2153\n",
      "epoch:  700/2000, cost: 0.0041, w: 3.9256, b: 0.1692\n",
      "epoch:  800/2000, cost: 0.0026, w: 3.9415, b: 0.1330\n",
      "epoch:  900/2000, cost: 0.0016, w: 3.9540, b: 0.1046\n",
      "epoch: 1000/2000, cost: 0.0010, w: 3.9638, b: 0.0822\n",
      "epoch: 1100/2000, cost: 0.0006, w: 3.9716, b: 0.0646\n",
      "epoch: 1200/2000, cost: 0.0004, w: 3.9777, b: 0.0508\n",
      "epoch: 1300/2000, cost: 0.0002, w: 3.9824, b: 0.0399\n",
      "epoch: 1400/2000, cost: 0.0001, w: 3.9862, b: 0.0314\n",
      "epoch: 1500/2000, cost: 0.0001, w: 3.9891, b: 0.0247\n",
      "epoch: 1600/2000, cost: 0.0001, w: 3.9915, b: 0.0194\n",
      "epoch: 1700/2000, cost: 0.0000, w: 3.9933, b: 0.0152\n",
      "epoch: 1800/2000, cost: 0.0000, w: 3.9947, b: 0.0120\n",
      "epoch: 1900/2000, cost: 0.0000, w: 3.9959, b: 0.0094\n"
     ]
    }
   ],
   "source": [
    "nb_epochs = 2000\n",
    "\n",
    "for epoch in range(nb_epochs):\n",
    "    y_pred = model(x_train)\n",
    "\n",
    "    cost = F.mse_loss(y_pred, y_train)\n",
    "\n",
    "    optimizer.zero_grad()\n",
    "    cost.backward()\n",
    "    optimizer.step()\n",
    "\n",
    "    if epoch % 100 == 0:\n",
    "        print('epoch: {:4d}/{}, cost: {:.4f}, w: {:.4f}, b: {:.4f}'.format(\n",
    "            epoch, nb_epochs, cost.item(), list(model.parameters())[0].item(), list(model.parameters())[1].item()\n",
    "        ))"
   ]
  },
  {
   "cell_type": "markdown",
   "metadata": {},
   "source": [
    "### Implementation of model from class"
   ]
  },
  {
   "cell_type": "code",
   "execution_count": 49,
   "metadata": {},
   "outputs": [],
   "source": [
    "model = nn.Linear(1, 1)"
   ]
  },
  {
   "cell_type": "code",
   "execution_count": 9,
   "metadata": {},
   "outputs": [],
   "source": [
    "import torch\n",
    "import torch.nn as nn\n",
    "import torch.optim as optim\n",
    "import torch.nn.functional as F\n",
    "\n",
    "class LinearRegressionModel(nn.Module):\n",
    "    def __init__(self):\n",
    "        super().__init__()\n",
    "        self.linear = nn.Linear(1, 1)\n",
    "\n",
    "    def forward(self, x):\n",
    "        return self.linear(x)\n",
    "\n",
    "model = LinearRegressionModel()"
   ]
  },
  {
   "cell_type": "code",
   "execution_count": 4,
   "metadata": {},
   "outputs": [],
   "source": [
    "x_train = torch.Tensor([[1.], [2], [3]])\n",
    "y_train = torch.Tensor([[3.], [6], [9]])"
   ]
  },
  {
   "cell_type": "code",
   "execution_count": 11,
   "metadata": {},
   "outputs": [
    {
     "name": "stdout",
     "output_type": "stream",
     "text": [
      "epoch:    0/1999, loss: 0.0000, weight: 2.9990, bias: 0.0022\n",
      "epoch:  100/1999, loss: 0.0000, weight: 2.9992, bias: 0.0017\n",
      "epoch:  200/1999, loss: 0.0000, weight: 2.9994, bias: 0.0014\n",
      "epoch:  300/1999, loss: 0.0000, weight: 2.9995, bias: 0.0011\n",
      "epoch:  400/1999, loss: 0.0000, weight: 2.9996, bias: 0.0008\n",
      "epoch:  500/1999, loss: 0.0000, weight: 2.9997, bias: 0.0007\n",
      "epoch:  600/1999, loss: 0.0000, weight: 2.9998, bias: 0.0005\n",
      "epoch:  700/1999, loss: 0.0000, weight: 2.9998, bias: 0.0004\n",
      "epoch:  800/1999, loss: 0.0000, weight: 2.9999, bias: 0.0003\n",
      "epoch:  900/1999, loss: 0.0000, weight: 2.9999, bias: 0.0003\n",
      "epoch: 1000/1999, loss: 0.0000, weight: 2.9999, bias: 0.0002\n",
      "epoch: 1100/1999, loss: 0.0000, weight: 2.9999, bias: 0.0002\n",
      "epoch: 1200/1999, loss: 0.0000, weight: 2.9999, bias: 0.0001\n",
      "epoch: 1300/1999, loss: 0.0000, weight: 3.0000, bias: 0.0001\n",
      "epoch: 1400/1999, loss: 0.0000, weight: 3.0000, bias: 0.0001\n",
      "epoch: 1500/1999, loss: 0.0000, weight: 3.0000, bias: 0.0001\n",
      "epoch: 1600/1999, loss: 0.0000, weight: 3.0000, bias: 0.0001\n",
      "epoch: 1700/1999, loss: 0.0000, weight: 3.0000, bias: 0.0000\n",
      "epoch: 1800/1999, loss: 0.0000, weight: 3.0000, bias: 0.0000\n",
      "epoch: 1900/1999, loss: 0.0000, weight: 3.0000, bias: 0.0000\n"
     ]
    }
   ],
   "source": [
    "nb_epochs = 1999\n",
    "optimizer = optim.SGD(model.parameters(), lr=0.01)\n",
    "for epoch in range(nb_epochs):\n",
    "    y_pred = model(x_train)\n",
    "    loss = F.mse_loss(y_pred, y_train)\n",
    "\n",
    "    optimizer.zero_grad()\n",
    "    loss.backward()\n",
    "    optimizer.step()\n",
    "\n",
    "    if epoch % 100 == 0:\n",
    "        print(\"epoch: {:4d}/{}, loss: {:.4f}, weight: {:.4f}, bias: {:.4f}\".format(\n",
    "            epoch, nb_epochs, loss.item(), list(model.parameters())[0].item(), list(model.parameters())[1].item() \n",
    "        ))"
   ]
  },
  {
   "cell_type": "markdown",
   "metadata": {},
   "source": [
    "### Data Load"
   ]
  },
  {
   "cell_type": "code",
   "execution_count": 12,
   "metadata": {},
   "outputs": [],
   "source": [
    "import torch\n",
    "import torch.nn as nn\n",
    "import torch.optim as optim\n",
    "import torch.nn.functional as F"
   ]
  },
  {
   "cell_type": "code",
   "execution_count": 14,
   "metadata": {},
   "outputs": [],
   "source": [
    "from torch.utils.data import TensorDataset, DataLoader"
   ]
  },
  {
   "cell_type": "code",
   "execution_count": 15,
   "metadata": {},
   "outputs": [],
   "source": [
    "x_train  =  torch.FloatTensor([[73,  80,  75], \n",
    "                               [93,  88,  93], \n",
    "                               [89,  91,  90], \n",
    "                               [96,  98,  100],   \n",
    "                               [73,  66,  70]])  \n",
    "y_train  =  torch.FloatTensor([[152],  [185],  [180],  [196],  [142]])"
   ]
  },
  {
   "cell_type": "code",
   "execution_count": 16,
   "metadata": {},
   "outputs": [],
   "source": [
    "dataset = TensorDataset(x_train, y_train)"
   ]
  },
  {
   "cell_type": "code",
   "execution_count": 17,
   "metadata": {},
   "outputs": [],
   "source": [
    "dataloader = DataLoader(dataset, batch_size=2, shuffle=True)"
   ]
  },
  {
   "cell_type": "code",
   "execution_count": 18,
   "metadata": {},
   "outputs": [],
   "source": [
    "model = nn.Linear(3, 1)\n",
    "optimizer = optim.SGD(model.parameters(), lr=1e-5)"
   ]
  },
  {
   "cell_type": "code",
   "execution_count": 38,
   "metadata": {},
   "outputs": [
    {
     "name": "stdout",
     "output_type": "stream",
     "text": [
      "epoch:  0/20, loss: 0.6504\n",
      "epoch:  1/20, loss: 0.5676\n",
      "epoch:  2/20, loss: 0.7626\n",
      "epoch:  3/20, loss: 0.5244\n",
      "epoch:  4/20, loss: 0.5380\n",
      "epoch:  5/20, loss: 0.2012\n",
      "epoch:  6/20, loss: 0.4824\n",
      "epoch:  7/20, loss: 0.1982\n",
      "epoch:  8/20, loss: 0.6386\n",
      "epoch:  9/20, loss: 0.2931\n",
      "epoch: 10/20, loss: 0.5953\n",
      "epoch: 11/20, loss: 0.7878\n",
      "epoch: 12/20, loss: 0.6035\n",
      "epoch: 13/20, loss: 0.7761\n",
      "epoch: 14/20, loss: 0.7523\n",
      "epoch: 15/20, loss: 0.7205\n",
      "epoch: 16/20, loss: 0.8171\n",
      "epoch: 17/20, loss: 0.5748\n",
      "epoch: 18/20, loss: 0.5430\n",
      "epoch: 19/20, loss: 0.4052\n"
     ]
    }
   ],
   "source": [
    "nb_epochs = 20\n",
    "\n",
    "for epoch in range(nb_epochs):\n",
    "    for batch_idx, (x, y) in enumerate(dataloader):\n",
    "        y_pred = model(x)\n",
    "        loss = F.mse_loss(y_pred, y)\n",
    "\n",
    "        optimizer.zero_grad()\n",
    "        loss.backward()\n",
    "        optimizer.step()\n",
    "\n",
    "    print(\"epoch: {:2d}/{}, loss: {:.4f}\".format(\n",
    "        epoch, nb_epochs, loss.item(),\n",
    "    ))"
   ]
  },
  {
   "cell_type": "code",
   "execution_count": 39,
   "metadata": {},
   "outputs": [
    {
     "name": "stdout",
     "output_type": "stream",
     "text": [
      "tensor([[151.8350]], grad_fn=<AddmmBackward0>)\n"
     ]
    }
   ],
   "source": [
    "new_var = torch.FloatTensor([[73, 80, 75]])\n",
    "\n",
    "pred_y = model(new_var)\n",
    "print(pred_y)"
   ]
  },
  {
   "cell_type": "markdown",
   "metadata": {},
   "source": [
    "### Custom Dataset"
   ]
  },
  {
   "cell_type": "code",
   "execution_count": 40,
   "metadata": {},
   "outputs": [],
   "source": [
    "import torch\n",
    "import torch.nn as nn\n",
    "import torch.nn.functional as F\n",
    "import torch.optim as optim"
   ]
  },
  {
   "cell_type": "code",
   "execution_count": 41,
   "metadata": {},
   "outputs": [],
   "source": [
    "from torch.utils.data import Dataset\n",
    "from torch.utils.data import DataLoader"
   ]
  },
  {
   "cell_type": "code",
   "execution_count": 51,
   "metadata": {},
   "outputs": [],
   "source": [
    "class CustomDataset(Dataset):\n",
    "    def __init__(self):\n",
    "        self.x_data = [[73, 80, 75],\n",
    "                       [93, 88, 93],\n",
    "                       [89, 91, 90],\n",
    "                       [96, 98, 100],\n",
    "                       [73, 66, 70]]\n",
    "\n",
    "        self.y_data = [[152], [185], [180], [196], [142]]\n",
    "\n",
    "    def __len__(self):\n",
    "        return len(self.x_data)\n",
    "\n",
    "    def __getitem__(self, idx):\n",
    "        x = torch.FloatTensor(self.x_data[idx])\n",
    "        y = torch.FloatTensor(self.y_data[idx])\n",
    "        return x, y\n"
   ]
  },
  {
   "cell_type": "code",
   "execution_count": 52,
   "metadata": {},
   "outputs": [],
   "source": [
    "dataset = CustomDataset()\n",
    "dataloader = DataLoader(dataset, batch_size=2, shuffle=True)"
   ]
  },
  {
   "cell_type": "code",
   "execution_count": 53,
   "metadata": {},
   "outputs": [],
   "source": [
    "model = torch.nn.Linear(3, 1)\n",
    "optimizer = torch.optim.SGD(model.parameters(), lr=1e-5)"
   ]
  },
  {
   "cell_type": "code",
   "execution_count": 55,
   "metadata": {},
   "outputs": [
    {
     "name": "stdout",
     "output_type": "stream",
     "text": [
      "Epoch 10/200 batch 1/3 loss 33375.7969\n",
      "Epoch 10/200 batch 2/3 loss 54717.2031\n",
      "Epoch 10/200 batch 3/3 loss 51939.5000\n",
      "Epoch 20/200 batch 1/3 loss 44128.9375\n",
      "Epoch 20/200 batch 2/3 loss 54717.2031\n",
      "Epoch 20/200 batch 3/3 loss 30433.2266\n",
      "Epoch 30/200 batch 1/3 loss 44128.9375\n",
      "Epoch 30/200 batch 2/3 loss 54717.2031\n",
      "Epoch 30/200 batch 3/3 loss 30433.2266\n",
      "Epoch 40/200 batch 1/3 loss 40332.2695\n",
      "Epoch 40/200 batch 2/3 loss 47760.7344\n",
      "Epoch 40/200 batch 3/3 loss 51939.5000\n",
      "Epoch 50/200 batch 1/3 loss 44818.1641\n",
      "Epoch 50/200 batch 2/3 loss 51085.4062\n",
      "Epoch 50/200 batch 3/3 loss 36318.3711\n",
      "Epoch 60/200 batch 1/3 loss 41186.3633\n",
      "Epoch 60/200 batch 2/3 loss 47760.7344\n",
      "Epoch 60/200 batch 3/3 loss 50231.3125\n",
      "Epoch 70/200 batch 1/3 loss 44818.1641\n",
      "Epoch 70/200 batch 2/3 loss 51085.4062\n",
      "Epoch 70/200 batch 3/3 loss 36318.3711\n",
      "Epoch 80/200 batch 1/3 loss 44818.1641\n",
      "Epoch 80/200 batch 2/3 loss 44128.9375\n",
      "Epoch 80/200 batch 3/3 loss 50231.3125\n",
      "Epoch 90/200 batch 1/3 loss 55571.2969\n",
      "Epoch 90/200 batch 2/3 loss 43274.8438\n",
      "Epoch 90/200 batch 3/3 loss 30433.2266\n",
      "Epoch 100/200 batch 1/3 loss 55571.2969\n",
      "Epoch 100/200 batch 2/3 loss 43274.8438\n",
      "Epoch 100/200 batch 3/3 loss 30433.2266\n",
      "Epoch 110/200 batch 1/3 loss 44818.1641\n",
      "Epoch 110/200 batch 2/3 loss 44128.9375\n",
      "Epoch 110/200 batch 3/3 loss 50231.3125\n",
      "Epoch 120/200 batch 1/3 loss 43274.8438\n",
      "Epoch 120/200 batch 2/3 loss 55571.2969\n",
      "Epoch 120/200 batch 3/3 loss 30433.2266\n",
      "Epoch 130/200 batch 1/3 loss 51085.4062\n",
      "Epoch 130/200 batch 2/3 loss 47760.7344\n",
      "Epoch 130/200 batch 3/3 loss 30433.2266\n",
      "Epoch 140/200 batch 1/3 loss 40332.2695\n",
      "Epoch 140/200 batch 2/3 loss 47760.7344\n",
      "Epoch 140/200 batch 3/3 loss 51939.5000\n",
      "Epoch 150/200 batch 1/3 loss 44818.1641\n",
      "Epoch 150/200 batch 2/3 loss 51085.4062\n",
      "Epoch 150/200 batch 3/3 loss 36318.3711\n",
      "Epoch 160/200 batch 1/3 loss 51085.4062\n",
      "Epoch 160/200 batch 2/3 loss 33375.7969\n",
      "Epoch 160/200 batch 3/3 loss 59203.0977\n",
      "Epoch 170/200 batch 1/3 loss 44818.1641\n",
      "Epoch 170/200 batch 2/3 loss 44128.9375\n",
      "Epoch 170/200 batch 3/3 loss 50231.3125\n",
      "Epoch 180/200 batch 1/3 loss 41186.3633\n",
      "Epoch 180/200 batch 2/3 loss 43274.8438\n",
      "Epoch 180/200 batch 3/3 loss 59203.0977\n",
      "Epoch 190/200 batch 1/3 loss 47760.7344\n",
      "Epoch 190/200 batch 2/3 loss 51085.4062\n",
      "Epoch 190/200 batch 3/3 loss 30433.2266\n",
      "Epoch 200/200 batch 1/3 loss 55571.2969\n",
      "Epoch 200/200 batch 2/3 loss 43274.8438\n",
      "Epoch 200/200 batch 3/3 loss 30433.2266\n"
     ]
    }
   ],
   "source": [
    "nb_epochs = 200\n",
    "for epoch in range(nb_epochs):\n",
    "    for batch_idx, samples in enumerate(dataloader):\n",
    "        x_train, y_train = samples\n",
    "        y_pred = model(x_train)\n",
    "\n",
    "        loss = F.mse_loss(y_pred, y_train)\n",
    "\n",
    "        optimizer.zero_grad()\n",
    "        loss.backward\n",
    "        optimizer.step()\n",
    "\n",
    "        if epoch % 10 == 9:\n",
    "            print('Epoch {:2d}/{} batch {}/{} loss {:.4f}'.format(\n",
    "                epoch+1, nb_epochs, batch_idx+1, len(dataset)//dataloader.batch_size + 1, loss.item()\n",
    "            ))"
   ]
  }
 ],
 "metadata": {
  "interpreter": {
   "hash": "6d46af94c2bbce495f1e668725902fa517c90b1782bcfe2fce0dd9868df553d3"
  },
  "kernelspec": {
   "display_name": "Python 3.9.7 ('base')",
   "language": "python",
   "name": "python3"
  },
  "language_info": {
   "codemirror_mode": {
    "name": "ipython",
    "version": 3
   },
   "file_extension": ".py",
   "mimetype": "text/x-python",
   "name": "python",
   "nbconvert_exporter": "python",
   "pygments_lexer": "ipython3",
   "version": "3.9.7"
  },
  "orig_nbformat": 4
 },
 "nbformat": 4,
 "nbformat_minor": 2
}
