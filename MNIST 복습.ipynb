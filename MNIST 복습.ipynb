{
 "cells": [
  {
   "cell_type": "code",
   "execution_count": 1,
   "metadata": {},
   "outputs": [],
   "source": [
    "import torch\n",
    "import torch.nn as nn\n",
    "import torch.nn.functional as F\n",
    "import torch.optim as optim\n",
    "\n",
    "from torch.utils.data import Dataset, DataLoader\n",
    "\n",
    "import torchvision\n",
    "import torchvision.datasets as datasets\n",
    "import torchvision.transforms as transforms"
   ]
  },
  {
   "cell_type": "code",
   "execution_count": 32,
   "metadata": {},
   "outputs": [],
   "source": [
    "train_dataset = datasets.MNIST(root='/data', train=True, download=True, transform=transforms.ToTensor())\n",
    "test_dataset = datasets.MNIST(root='/data', train=False, download=True, transform=transforms.ToTensor())\n",
    "\n",
    "train_loader = DataLoader(dataset=train_dataset, batch_size=64, shuffle=True, num_workers=2, drop_last=True)\n",
    "test_loader = DataLoader(dataset=test_dataset, batch_size=64, shuffle=True, num_workers=2, drop_last=True)"
   ]
  },
  {
   "cell_type": "code",
   "execution_count": 59,
   "metadata": {},
   "outputs": [
    {
     "name": "stdout",
     "output_type": "stream",
     "text": [
      "torch.Size([64, 1, 28, 28])\n",
      "tensor([8, 4, 5, 3, 0, 6, 2, 2, 8, 5, 3, 5, 6, 6, 5, 9, 4, 7, 2, 0, 6, 9, 3, 5,\n",
      "        3, 5, 7, 1, 7, 7, 7, 6, 2, 5, 3, 8, 8, 2, 9, 2, 7, 1, 1, 0, 1, 9, 4, 0,\n",
      "        0, 3, 1, 3, 9, 3, 6, 6, 9, 7, 6, 3, 9, 6, 4, 0])\n",
      "[tensor(6), tensor(5), tensor(6), tensor(9), tensor(4), tensor(7), tensor(9), tensor(7), tensor(4), tensor(7)]\n"
     ]
    }
   ],
   "source": [
    "for batch_idx, sample in enumerate(train_loader):\n",
    "    image, label = sample\n",
    "    print(image.size())\n",
    "    print(label)\n",
    "\n",
    "    total = [0 for i in range(10)]\n",
    "    for i in range(10):\n",
    "        total[i] = (label == i).sum()\n",
    "    print(total)\n",
    "    break"
   ]
  },
  {
   "cell_type": "code",
   "execution_count": 52,
   "metadata": {},
   "outputs": [],
   "source": [
    "device = torch.device('cuda' if torch.cuda.is_available() else 'cpu')"
   ]
  },
  {
   "cell_type": "code",
   "execution_count": 53,
   "metadata": {},
   "outputs": [],
   "source": [
    "class LeNet(nn.Module):\n",
    "    def __init__(self):\n",
    "        super(LeNet, self).__init__()\n",
    "        self.conv1 = nn.Conv2d(in_channels=1, out_channels=6, kernel_size=5)\n",
    "        self.conv2 = nn.Conv2d(in_channels=6, out_channels=16, kernel_size=5)\n",
    "        self.maxpool = nn.MaxPool2d(2, 2)\n",
    "        self.fc1 = nn.Linear(4*4*16, 120)\n",
    "        self.fc2 = nn.Linear(120, 84)\n",
    "        self.fc3 = nn.Linear(84, 10)\n",
    "\n",
    "    def forward(self, x):\n",
    "        x = self.maxpool(F.relu(self.conv1(x)))\n",
    "        x = self.maxpool(F.relu(self.conv2(x)))\n",
    "        x = x.reshape(64, 16*4*4)\n",
    "        x = F.relu(self.fc1(x))\n",
    "        x = F.relu(self.fc2(x))\n",
    "        x = self.fc3(x)\n",
    "        return x\n",
    "\n",
    "model = LeNet()"
   ]
  },
  {
   "cell_type": "code",
   "execution_count": 54,
   "metadata": {},
   "outputs": [],
   "source": [
    "criterion = nn.CrossEntropyLoss()\n",
    "optimizer = optim.SGD(model.parameters(), lr=0.001, momentum=0.9)"
   ]
  },
  {
   "cell_type": "code",
   "execution_count": 55,
   "metadata": {},
   "outputs": [
    {
     "name": "stdout",
     "output_type": "stream",
     "text": [
      "epoch:  0/20, loss: 2.255955696105957\n",
      "epoch:  1/20, loss: 0.2959239184856415\n",
      "epoch:  2/20, loss: 0.27757230401039124\n",
      "epoch:  3/20, loss: 0.3543558120727539\n",
      "epoch:  4/20, loss: 0.08398246020078659\n",
      "epoch:  5/20, loss: 0.07292014360427856\n",
      "epoch:  6/20, loss: 0.06101829931139946\n",
      "epoch:  7/20, loss: 0.04728495329618454\n",
      "epoch:  8/20, loss: 0.22426337003707886\n",
      "epoch:  9/20, loss: 0.06843440234661102\n",
      "epoch: 10/20, loss: 0.06562858074903488\n",
      "epoch: 11/20, loss: 0.01922835037112236\n",
      "epoch: 12/20, loss: 0.0981874167919159\n",
      "epoch: 13/20, loss: 0.03330638259649277\n",
      "epoch: 14/20, loss: 0.0488969087600708\n",
      "epoch: 15/20, loss: 0.002911282004788518\n",
      "epoch: 16/20, loss: 0.08511878550052643\n",
      "epoch: 17/20, loss: 0.002738929819315672\n",
      "epoch: 18/20, loss: 0.04523089528083801\n",
      "epoch: 19/20, loss: 0.04316696897149086\n"
     ]
    }
   ],
   "source": [
    "epochs = 20\n",
    "\n",
    "for epoch in range(epochs):\n",
    "    for batch_idx, samples in enumerate(train_loader):\n",
    "        image, label = samples[0], samples[1]\n",
    "        prediction = model(image)\n",
    "\n",
    "        loss = criterion(prediction, label)\n",
    "\n",
    "        optimizer.zero_grad()\n",
    "        loss.backward()\n",
    "        optimizer.step()\n",
    "\n",
    "    print(\"epoch: {:2d}/{}, loss: {}\".format(epoch, epochs, loss.item()))"
   ]
  },
  {
   "cell_type": "code",
   "execution_count": 57,
   "metadata": {},
   "outputs": [
    {
     "name": "stdout",
     "output_type": "stream",
     "text": [
      "accuracy = 98.7%\n"
     ]
    }
   ],
   "source": [
    "correct = 0\n",
    "total = 0\n",
    "\n",
    "with torch.no_grad():\n",
    "    for batch_idx, samples in enumerate(test_loader):\n",
    "        image, label = samples\n",
    "        prediction = model(image)\n",
    "        _, label_pred = prediction.max(dim=1)\n",
    "        \n",
    "        correct += (label_pred == label).sum()\n",
    "        total += label_pred.shape[0]\n",
    "\n",
    "    print(\"accuracy = {:.1f}%\".format(100*correct/total))\n"
   ]
  },
  {
   "cell_type": "code",
   "execution_count": 63,
   "metadata": {},
   "outputs": [
    {
     "name": "stdout",
     "output_type": "stream",
     "text": [
      "accuracy for 0 = 99.2%\n",
      "accuracy for 1 = 99.3%\n",
      "accuracy for 2 = 98.9%\n",
      "accuracy for 3 = 99.0%\n",
      "accuracy for 4 = 98.8%\n",
      "accuracy for 5 = 98.1%\n",
      "accuracy for 6 = 98.6%\n",
      "accuracy for 7 = 98.5%\n",
      "accuracy for 8 = 98.3%\n",
      "accuracy for 9 = 98.1%\n"
     ]
    }
   ],
   "source": [
    "correct = [0 for i in range(10)]\n",
    "total = [0 for i in range(10)]\n",
    "\n",
    "with torch.no_grad():\n",
    "    for batch_idx, samples in enumerate(test_loader):\n",
    "        image, label = samples\n",
    "        prediction = model(image)\n",
    "        _, label_pred = prediction.max(dim=1)\n",
    "    \n",
    "        for i in range(10):\n",
    "            total[i] += (label == i).sum()\n",
    "            correct[i] += ((label == i) & (label_pred == label)).sum()\n",
    "\n",
    "for i in range(10):\n",
    "    print(\"accuracy for {} = {:.1f}%\".format(i, 100*correct[i]/total[i]))\n"
   ]
  },
  {
   "cell_type": "code",
   "execution_count": 48,
   "metadata": {},
   "outputs": [
    {
     "name": "stdout",
     "output_type": "stream",
     "text": [
      "0\n",
      "1\n",
      "2\n",
      "3\n",
      "4\n",
      "5\n",
      "6\n",
      "7\n",
      "8\n",
      "9\n"
     ]
    }
   ],
   "source": [
    "for i in range(10):\n",
    "    print(i)"
   ]
  }
 ],
 "metadata": {
  "interpreter": {
   "hash": "6d46af94c2bbce495f1e668725902fa517c90b1782bcfe2fce0dd9868df553d3"
  },
  "kernelspec": {
   "display_name": "Python 3.9.7 ('base')",
   "language": "python",
   "name": "python3"
  },
  "language_info": {
   "codemirror_mode": {
    "name": "ipython",
    "version": 3
   },
   "file_extension": ".py",
   "mimetype": "text/x-python",
   "name": "python",
   "nbconvert_exporter": "python",
   "pygments_lexer": "ipython3",
   "version": "3.9.7"
  },
  "orig_nbformat": 4
 },
 "nbformat": 4,
 "nbformat_minor": 2
}
