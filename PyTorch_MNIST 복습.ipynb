{
 "cells": [
  {
   "cell_type": "code",
   "execution_count": 1,
   "metadata": {},
   "outputs": [],
   "source": [
    "import torch\n",
    "import torch.nn as nn\n",
    "import torch.nn.functional as F\n",
    "import torch.optim as optim\n",
    "\n",
    "from torch.utils.data import Dataset, DataLoader\n",
    "\n",
    "import torchvision\n",
    "import torchvision.datasets as datasets\n",
    "import torchvision.transforms as transforms"
   ]
  },
  {
   "cell_type": "code",
   "execution_count": 2,
   "metadata": {},
   "outputs": [],
   "source": [
    "train_dataset = datasets.MNIST(root='/data', train=True, download=True, transform=transforms.ToTensor())\n",
    "test_dataset = datasets.MNIST(root='/data', train=False, download=True, transform=transforms.ToTensor())\n",
    "\n",
    "train_loader = DataLoader(dataset=train_dataset, batch_size=64, shuffle=True, num_workers=2, drop_last=True)\n",
    "test_loader = DataLoader(dataset=test_dataset, batch_size=64, shuffle=True, num_workers=2, drop_last=True)"
   ]
  },
  {
   "cell_type": "code",
   "execution_count": 3,
   "metadata": {},
   "outputs": [
    {
     "name": "stdout",
     "output_type": "stream",
     "text": [
      "torch.Size([64, 1, 28, 28])\n",
      "tensor([8, 9, 7, 4, 3, 2, 7, 9, 0, 1, 2, 8, 4, 4, 4, 2, 3, 0, 0, 6, 8, 2, 0, 2,\n",
      "        4, 3, 9, 1, 0, 9, 5, 6, 6, 7, 1, 9, 5, 7, 2, 1, 6, 2, 0, 9, 2, 2, 9, 0,\n",
      "        1, 7, 8, 1, 7, 1, 3, 1, 8, 8, 8, 6, 5, 1, 2, 9])\n",
      "[tensor(7), tensor(9), tensor(10), tensor(4), tensor(5), tensor(3), tensor(5), tensor(6), tensor(7), tensor(8)]\n"
     ]
    }
   ],
   "source": [
    "for batch_idx, sample in enumerate(train_loader):\n",
    "    image, label = sample\n",
    "    print(image.size())\n",
    "    print(label)\n",
    "\n",
    "    total = [0 for i in range(10)]\n",
    "    for i in range(10):\n",
    "        total[i] = (label == i).sum()\n",
    "    print(total)\n",
    "    break"
   ]
  },
  {
   "cell_type": "code",
   "execution_count": 4,
   "metadata": {},
   "outputs": [],
   "source": [
    "device = torch.device('cuda' if torch.cuda.is_available() else 'cpu')"
   ]
  },
  {
   "cell_type": "code",
   "execution_count": 9,
   "metadata": {},
   "outputs": [],
   "source": [
    "class LeNet(nn.Module):\n",
    "    def __init__(self):\n",
    "        super(LeNet, self).__init__()\n",
    "        self.conv1 = nn.Conv2d(in_channels=1, out_channels=6, kernel_size=5)\n",
    "        self.conv2 = nn.Conv2d(in_channels=6, out_channels=16, kernel_size=5)\n",
    "        self.maxpool = nn.MaxPool2d(2, 2)\n",
    "        self.fc1 = nn.Linear(4*4*16, 120)\n",
    "        self.fc2 = nn.Linear(120, 84)\n",
    "        self.fc3 = nn.Linear(84, 10)\n",
    "\n",
    "    def forward(self, x):\n",
    "        x = self.maxpool(F.relu(self.conv1(x)))\n",
    "        x = self.maxpool(F.relu(self.conv2(x)))\n",
    "        x = x.view(-1, 16*4*4)\n",
    "        x = F.relu(self.fc1(x))\n",
    "        x = F.relu(self.fc2(x))\n",
    "        x = self.fc3(x)\n",
    "        return x\n",
    "\n",
    "model = LeNet()"
   ]
  },
  {
   "cell_type": "code",
   "execution_count": 10,
   "metadata": {},
   "outputs": [],
   "source": [
    "criterion = nn.CrossEntropyLoss()\n",
    "optimizer = optim.Adam(model.parameters(), lr=0.001, betas=(0.99, 0.999))"
   ]
  },
  {
   "cell_type": "code",
   "execution_count": 11,
   "metadata": {},
   "outputs": [
    {
     "name": "stdout",
     "output_type": "stream",
     "text": [
      "epoch:  0/20, loss: 0.08449505269527435\n",
      "epoch:  1/20, loss: 0.029525453224778175\n",
      "epoch:  2/20, loss: 0.06896868348121643\n",
      "epoch:  3/20, loss: 0.026662152260541916\n",
      "epoch:  4/20, loss: 0.057392366230487823\n",
      "epoch:  5/20, loss: 0.06648974865674973\n",
      "epoch:  6/20, loss: 0.003932134248316288\n",
      "epoch:  7/20, loss: 0.025181367993354797\n",
      "epoch:  8/20, loss: 0.004681329242885113\n",
      "epoch:  9/20, loss: 0.0008657730650156736\n",
      "epoch: 10/20, loss: 0.0004540483350865543\n",
      "epoch: 11/20, loss: 0.010420321486890316\n",
      "epoch: 12/20, loss: 0.00011453322076704353\n",
      "epoch: 13/20, loss: 0.00022322646691463888\n",
      "epoch: 14/20, loss: 0.000803330447524786\n",
      "epoch: 15/20, loss: 0.015048198401927948\n",
      "epoch: 16/20, loss: 7.533235475420952e-05\n",
      "epoch: 17/20, loss: 0.08263624459505081\n",
      "epoch: 18/20, loss: 0.008780090138316154\n",
      "epoch: 19/20, loss: 0.00031637129723094404\n"
     ]
    }
   ],
   "source": [
    "epochs = 20\n",
    "\n",
    "for epoch in range(epochs):\n",
    "    for batch_idx, samples in enumerate(train_loader):\n",
    "        image, label = samples[0], samples[1]\n",
    "        prediction = model(image)\n",
    "\n",
    "        loss = criterion(prediction, label)\n",
    "\n",
    "        optimizer.zero_grad()\n",
    "        loss.backward()\n",
    "        optimizer.step()\n",
    "\n",
    "    print(\"epoch: {:2d}/{}, loss: {}\".format(epoch, epochs, loss.item()))"
   ]
  },
  {
   "cell_type": "code",
   "execution_count": 12,
   "metadata": {},
   "outputs": [
    {
     "name": "stdout",
     "output_type": "stream",
     "text": [
      "accuracy = 98.9%\n"
     ]
    }
   ],
   "source": [
    "correct = 0\n",
    "total = 0\n",
    "\n",
    "with torch.no_grad():\n",
    "    for batch_idx, samples in enumerate(test_loader):\n",
    "        image, label = samples\n",
    "        prediction = model(image)\n",
    "        _, label_pred = prediction.max(dim=1)\n",
    "        \n",
    "        correct += (label_pred == label).sum()\n",
    "        total += label_pred.shape[0]\n",
    "\n",
    "    print(\"accuracy = {:.1f}%\".format(100*correct/total))\n"
   ]
  },
  {
   "cell_type": "code",
   "execution_count": 13,
   "metadata": {},
   "outputs": [
    {
     "name": "stdout",
     "output_type": "stream",
     "text": [
      "accuracy for 0 = 99.9%\n",
      "accuracy for 1 = 99.6%\n",
      "accuracy for 2 = 99.8%\n",
      "accuracy for 3 = 98.3%\n",
      "accuracy for 4 = 98.5%\n",
      "accuracy for 5 = 98.1%\n",
      "accuracy for 6 = 98.7%\n",
      "accuracy for 7 = 99.1%\n",
      "accuracy for 8 = 98.7%\n",
      "accuracy for 9 = 98.3%\n"
     ]
    }
   ],
   "source": [
    "correct = [0 for i in range(10)]\n",
    "total = [0 for i in range(10)]\n",
    "\n",
    "with torch.no_grad():\n",
    "    for batch_idx, samples in enumerate(test_loader):\n",
    "        image, label = samples\n",
    "        prediction = model(image)\n",
    "        label_pred = prediction.argmax(dim=1)\n",
    "    \n",
    "        for i in range(10):\n",
    "            total[i] += (label == i).sum()\n",
    "            correct[i] += ((label == i) & (label_pred == label)).sum()\n",
    "\n",
    "for i in range(10):\n",
    "    print(\"accuracy for {} = {:.1f}%\".format(i, 100*correct[i]/total[i]))\n"
   ]
  },
  {
   "cell_type": "code",
   "execution_count": 48,
   "metadata": {},
   "outputs": [
    {
     "name": "stdout",
     "output_type": "stream",
     "text": [
      "0\n",
      "1\n",
      "2\n",
      "3\n",
      "4\n",
      "5\n",
      "6\n",
      "7\n",
      "8\n",
      "9\n"
     ]
    }
   ],
   "source": [
    "for i in range(10):\n",
    "    print(i)"
   ]
  }
 ],
 "metadata": {
  "interpreter": {
   "hash": "6d46af94c2bbce495f1e668725902fa517c90b1782bcfe2fce0dd9868df553d3"
  },
  "kernelspec": {
   "display_name": "Python 3.9.7 ('base')",
   "language": "python",
   "name": "python3"
  },
  "language_info": {
   "codemirror_mode": {
    "name": "ipython",
    "version": 3
   },
   "file_extension": ".py",
   "mimetype": "text/x-python",
   "name": "python",
   "nbconvert_exporter": "python",
   "pygments_lexer": "ipython3",
   "version": "3.9.7"
  },
  "orig_nbformat": 4
 },
 "nbformat": 4,
 "nbformat_minor": 2
}
