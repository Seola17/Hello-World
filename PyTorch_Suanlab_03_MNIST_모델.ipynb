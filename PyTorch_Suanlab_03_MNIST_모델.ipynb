{
  "cells": [
    {
      "cell_type": "markdown",
      "metadata": {
        "id": "N70Zo_KMAg1H"
      },
      "source": [
        "# 파이토치 MNIST 모델"
      ]
    },
    {
      "cell_type": "markdown",
      "metadata": {
        "id": "aNj9ScsbAlr-"
      },
      "source": [
        "## modules import "
      ]
    },
    {
      "cell_type": "code",
      "execution_count": 1,
      "metadata": {
        "id": "IaKgb-5BAj68"
      },
      "outputs": [],
      "source": [
        "import torch\n",
        "import torch.nn as nn\n",
        "import torch.nn.functional as F\n",
        "import torch.optim as optim\n",
        "from torch.utils.data import Dataset, DataLoader\n",
        "\n",
        "import torchvision\n",
        "import torchvision.datasets\n",
        "import torchvision.transforms as transforms\n",
        "\n",
        "import numpy as np\n",
        "import matplotlib.pyplot as plt\n",
        "plt.style.use('seaborn-white')"
      ]
    },
    {
      "cell_type": "markdown",
      "metadata": {
        "id": "-v_WXu5iDfZK"
      },
      "source": [
        "## 전처리 설정\n",
        "- `transform.Compose`"
      ]
    },
    {
      "cell_type": "code",
      "execution_count": 2,
      "metadata": {
        "id": "Xu74M5BxDiLH"
      },
      "outputs": [],
      "source": [
        "transform = transforms.Compose([transforms.ToTensor(), transforms.Normalize((0.5, ), (0.5, ))])"
      ]
    },
    {
      "cell_type": "markdown",
      "metadata": {
        "id": "E-eus2CsDoEe"
      },
      "source": [
        "\n",
        "## 데이터 로드 및 데이터 확인"
      ]
    },
    {
      "cell_type": "code",
      "execution_count": 3,
      "metadata": {
        "id": "P9FURlkCDnja"
      },
      "outputs": [],
      "source": [
        "trainset = torchvision.datasets.MNIST(root='./data', train=True, download=True, transform=transform)\n",
        "\n",
        "testset = torchvision.datasets.MNIST(root='./data', train=False, download=True, transform=transform)"
      ]
    },
    {
      "cell_type": "code",
      "execution_count": 4,
      "metadata": {
        "id": "YYAssGe4Dy3c"
      },
      "outputs": [],
      "source": [
        "train_loader = DataLoader(trainset, batch_size=128, shuffle=True, num_workers=2)\n",
        "\n",
        "test_loader = DataLoader(testset, batch_size=128, shuffle=False, num_workers=2)"
      ]
    },
    {
      "cell_type": "code",
      "execution_count": 16,
      "metadata": {
        "id": "X6gBiInXEG19"
      },
      "outputs": [],
      "source": [
        "image, label = next(iter(train_loader))"
      ]
    },
    {
      "cell_type": "code",
      "execution_count": 17,
      "metadata": {
        "id": "maF2sZwmEqYh"
      },
      "outputs": [
        {
          "data": {
            "text/plain": [
              "(torch.Size([128, 1, 28, 28]), torch.Size([128]))"
            ]
          },
          "execution_count": 17,
          "metadata": {},
          "output_type": "execute_result"
        }
      ],
      "source": [
        "image.shape, label.shape"
      ]
    },
    {
      "cell_type": "code",
      "execution_count": 18,
      "metadata": {
        "id": "IwylR2BtFDCf"
      },
      "outputs": [],
      "source": [
        "def imshow(img):\n",
        "    img = img/2 + 0.5\n",
        "    npimg = img.numpy()\n",
        "    fig = plt.figure(figsize=(10, 5))\n",
        "    plt.imshow(np.transpose(npimg, (1, 2, 0)))\n",
        "    plt.show()"
      ]
    },
    {
      "cell_type": "code",
      "execution_count": 19,
      "metadata": {
        "id": "4NKMcdmuFF7m"
      },
      "outputs": [
        {
          "data": {
            "image/png": "[encoded data removed]",
            "text/plain": [
              "<Figure size 720x360 with 1 Axes>"
            ]
          },
          "metadata": {},
          "output_type": "display_data"
        }
      ],
      "source": [
        "dataiter = iter(train_loader)\n",
        "images, labels = dataiter.next()\n",
        "imshow(torchvision.utils.make_grid(images[:4]))"
      ]
    },
    {
      "cell_type": "markdown",
      "metadata": {
        "id": "GCxg2k3oFjwk"
      },
      "source": [
        "## 신경망 구성"
      ]
    },
    {
      "cell_type": "code",
      "execution_count": 5,
      "metadata": {
        "id": "igYMZcWgBCML"
      },
      "outputs": [
        {
          "name": "stdout",
          "output_type": "stream",
          "text": [
            "Net(\n",
            "  (conv1): Conv2d(1, 6, kernel_size=(3, 3), stride=(1, 1))\n",
            "  (conv2): Conv2d(6, 16, kernel_size=(3, 3), stride=(1, 1))\n",
            "  (fc1): Linear(in_features=400, out_features=120, bias=True)\n",
            "  (fc2): Linear(in_features=120, out_features=84, bias=True)\n",
            "  (fc3): Linear(in_features=84, out_features=10, bias=True)\n",
            ")\n"
          ]
        }
      ],
      "source": [
        "class Net(nn.Module):\n",
        "\n",
        "    def __init__(self):\n",
        "        super(Net, self).__init__()\n",
        "\n",
        "        self.conv1 = nn.Conv2d(1, 6, 3)\n",
        "        self.conv2 = nn.Conv2d(6, 16, 3)\n",
        "        self.fc1 = nn.Linear(16 * 5 * 5, 120)           # 6*6 의 의미? 아니고 5*5로 해야 됨 왜??? : 28*28에서 3*3 conv. 2번, 2*2 maxpool 2번 하고나면 5*5 됨\n",
        "        self.fc2 = nn.Linear(120, 84)\n",
        "        self.fc3 = nn.Linear(84, 10)\n",
        "\n",
        "    def forward(self, x):\n",
        "        x = F.max_pool2d(F.relu(self.conv1(x)), (2, 2))\n",
        "        x = F.max_pool2d(F.relu(self.conv2(x)), 2)\n",
        "        x = x.view(-1, self.num_flat_features(x))\n",
        "        # print(\"x__size :\", x.size())                  # batch size 가 첫번째 element인지 확인\n",
        "        x = F.relu(self.fc1(x))\n",
        "        x = F.relu(self.fc2(x))\n",
        "        x = self.fc3(x)\n",
        "        return x\n",
        "\n",
        "    def num_flat_features(self, x):\n",
        "        size = x.size()[1:]                             # 왜 size()[0]은 제외함? batch size가 들어가는 자리라서.\n",
        "        num_features = 1\n",
        "        for s in size:\n",
        "            num_features *= s\n",
        "\n",
        "        return num_features\n",
        "\n",
        "net = Net()\n",
        "print(net)"
      ]
    },
    {
      "cell_type": "markdown",
      "metadata": {
        "id": "6CN4Kbd9FliP"
      },
      "source": [
        "- `.parameters()` "
      ]
    },
    {
      "cell_type": "code",
      "execution_count": 67,
      "metadata": {
        "id": "ZxxZoCC-Fn9b"
      },
      "outputs": [
        {
          "name": "stdout",
          "output_type": "stream",
          "text": [
            "10\n",
            "torch.Size([10])\n"
          ]
        }
      ],
      "source": [
        "params = list(net.parameters())\n",
        "print(len(params))\n",
        "print(params[9].size())"
      ]
    },
    {
      "cell_type": "markdown",
      "metadata": {
        "id": "jelPFbNgFwmG"
      },
      "source": [
        "임의의 값을 넣어 forward값 확인"
      ]
    },
    {
      "cell_type": "code",
      "execution_count": 22,
      "metadata": {
        "id": "nI-7V1oUFoxG"
      },
      "outputs": [
        {
          "name": "stdout",
          "output_type": "stream",
          "text": [
            "tensor([[ 0.0771, -0.0309, -0.0589,  ...,  0.0092,  0.0624, -0.0139],\n",
            "        [ 0.0779, -0.0027, -0.0450,  ..., -0.0049,  0.0294, -0.0321],\n",
            "        [ 0.0772, -0.0281, -0.0652,  ..., -0.0040,  0.0573, -0.0068],\n",
            "        ...,\n",
            "        [ 0.0821, -0.0257, -0.0615,  ..., -0.0228,  0.0175, -0.0307],\n",
            "        [ 0.0838, -0.0133, -0.0620,  ..., -0.0031,  0.0421, -0.0212],\n",
            "        [ 0.0851, -0.0298, -0.0617,  ..., -0.0001,  0.0800, -0.0203]],\n",
            "       grad_fn=<AddmmBackward0>)\n"
          ]
        }
      ],
      "source": [
        "input = torch.randn(128, 1, 28, 28)\n",
        "out = net(input)\n",
        "print(out)"
      ]
    },
    {
      "cell_type": "markdown",
      "metadata": {
        "id": "hFAKDY87FRuu"
      },
      "source": [
        "## 손실함수와 옵티마이저"
      ]
    },
    {
      "cell_type": "code",
      "execution_count": 6,
      "metadata": {
        "id": "XHGAenL0Fu7R"
      },
      "outputs": [],
      "source": [
        "criterion = nn.CrossEntropyLoss()\n",
        "optimizer = optim.SGD(net.parameters(), lr=0.001, momentum=0.9)"
      ]
    },
    {
      "cell_type": "markdown",
      "metadata": {
        "id": "NV5_xdUsGB1x"
      },
      "source": [
        "## 모델 학습\n",
        "\n",
        "- `optimizer.zero_grad` : 가중치의 그래디언트 초기화\n",
        "\n",
        "- loss 계산\n",
        "\n",
        "- `loss.backward()`\n",
        "\n",
        "- `optmizer.step()` : 업데이트"
      ]
    },
    {
      "cell_type": "markdown",
      "metadata": {
        "id": "rBIYk0aTGEPW"
      },
      "source": [
        "- 배치수 확인"
      ]
    },
    {
      "cell_type": "code",
      "execution_count": 24,
      "metadata": {
        "id": "qax43PdgDQBk"
      },
      "outputs": [
        {
          "name": "stdout",
          "output_type": "stream",
          "text": [
            "469\n"
          ]
        }
      ],
      "source": [
        "total_batch = len(train_loader)\n",
        "print(total_batch)                  # 위에서 train_loader 정의할 때 batch_size 128로 정했는데 왜 469..? 128은 미니배치 사이즈, 469는 mini-batch의 갯수"
      ]
    },
    {
      "cell_type": "markdown",
      "metadata": {
        "id": "4eHTyg6eHzMI"
      },
      "source": [
        "- 설명을 위해 `epochs=2`로 지정"
      ]
    },
    {
      "cell_type": "code",
      "execution_count": 7,
      "metadata": {
        "id": "NzwisgcADQOD"
      },
      "outputs": [
        {
          "name": "stdout",
          "output_type": "stream",
          "text": [
            "Epoch: 1, Iter: 100, Loss: 2.2984282636642455\n",
            "Epoch: 1, Iter: 200, Loss: 2.2868125081062316\n",
            "Epoch: 1, Iter: 300, Loss: 2.269633240699768\n",
            "Epoch: 1, Iter: 400, Loss: 2.240709309577942\n",
            "Epoch: 2, Iter: 100, Loss: 2.043582409620285\n",
            "Epoch: 2, Iter: 200, Loss: 1.6418590366840362\n",
            "Epoch: 2, Iter: 300, Loss: 1.060251429080963\n",
            "Epoch: 2, Iter: 400, Loss: 0.6931831294298172\n"
          ]
        }
      ],
      "source": [
        "for epoch in range(2):\n",
        "\n",
        "    running_loss = 0.0\n",
        "    for i, data in enumerate(train_loader, 0):     # 0은 시작 인덱스를 말함. i=0부터 시작함.\n",
        "        inputs, labels = data\n",
        "\n",
        "        optimizer.zero_grad()\n",
        "\n",
        "        outputs = net(inputs)\n",
        "        loss = criterion(outputs, labels)\n",
        "\n",
        "        loss.backward()\n",
        "        optimizer.step()\n",
        "\n",
        "        running_loss += loss.item()\n",
        "        \n",
        "        if i % 100 == 99:\n",
        "            print(\"Epoch: {}, Iter: {}, Loss: {}\".format(epoch+1, i+1, running_loss/100))\n",
        "            running_loss = 0.0"
      ]
    },
    {
      "cell_type": "markdown",
      "metadata": {
        "id": "tumNqvreIMUC"
      },
      "source": [
        "## 모델의 저장 및 로드\n",
        "\n",
        "- `torch.save`\n",
        "  - `net.state_dict()`를 저장\n",
        "\n",
        "- `torch.load`\n",
        "  - `load_state_dict`로 모델을 로드"
      ]
    },
    {
      "cell_type": "code",
      "execution_count": 26,
      "metadata": {
        "id": "lxj4a7oHDQRR"
      },
      "outputs": [],
      "source": [
        "PATH = './mnist_net.pth'\n",
        "torch.save(net.state_dict(), PATH)"
      ]
    },
    {
      "cell_type": "code",
      "execution_count": 27,
      "metadata": {
        "id": "9GqVJlGzDQTe"
      },
      "outputs": [
        {
          "data": {
            "text/plain": [
              "<All keys matched successfully>"
            ]
          },
          "execution_count": 27,
          "metadata": {},
          "output_type": "execute_result"
        }
      ],
      "source": [
        "net = Net()\n",
        "net.load_state_dict(torch.load(PATH))"
      ]
    },
    {
      "cell_type": "code",
      "execution_count": 28,
      "metadata": {
        "id": "15cyBDq0DQV2"
      },
      "outputs": [
        {
          "data": {
            "text/plain": [
              "<bound method Module.parameters of Net(\n",
              "  (conv1): Conv2d(1, 6, kernel_size=(3, 3), stride=(1, 1))\n",
              "  (conv2): Conv2d(6, 16, kernel_size=(3, 3), stride=(1, 1))\n",
              "  (fc1): Linear(in_features=400, out_features=120, bias=True)\n",
              "  (fc2): Linear(in_features=120, out_features=84, bias=True)\n",
              "  (fc3): Linear(in_features=84, out_features=10, bias=True)\n",
              ")>"
            ]
          },
          "execution_count": 28,
          "metadata": {},
          "output_type": "execute_result"
        }
      ],
      "source": [
        "net.parameters"
      ]
    },
    {
      "cell_type": "markdown",
      "metadata": {
        "id": "5IecfHZiI09W"
      },
      "source": [
        "## 모델 테스트"
      ]
    },
    {
      "cell_type": "code",
      "execution_count": 29,
      "metadata": {
        "id": "QewXif2NDQYZ"
      },
      "outputs": [
        {
          "data": {
            "image/png": "[encoded data removed]",
            "text/plain": [
              "<Figure size 720x360 with 1 Axes>"
            ]
          },
          "metadata": {},
          "output_type": "display_data"
        }
      ],
      "source": [
        "dataiter = iter(test_loader)\n",
        "images, labels = dataiter.next()\n",
        "\n",
        "imshow(torchvision.utils.make_grid(images[:4]))"
      ]
    },
    {
      "cell_type": "code",
      "execution_count": 30,
      "metadata": {
        "id": "ELx5TrT-DQao"
      },
      "outputs": [
        {
          "data": {
            "text/plain": [
              "tensor([[-0.7829, -1.7729, -2.1527,  ...,  5.9306,  2.0675,  2.8639],\n",
              "        [ 2.1832,  2.1652,  5.5881,  ..., -7.3187,  1.2926, -6.6575],\n",
              "        [-1.4268,  3.0665,  0.4106,  ..., -1.2242,  0.7481, -1.0968],\n",
              "        ...,\n",
              "        [-2.1879,  0.0508, -0.0104,  ..., -0.3250,  1.0560,  2.3658],\n",
              "        [ 6.3780, -3.6458,  4.6007,  ..., -4.6764,  1.2036, -5.4626],\n",
              "        [ 0.0129, -2.5285, -2.9104,  ...,  2.7841,  2.7325,  2.3115]])"
            ]
          },
          "execution_count": 30,
          "metadata": {},
          "output_type": "execute_result"
        }
      ],
      "source": [
        "outputs = net(images)\n",
        "outputs.size()\n",
        "outputs\n",
        "outputs.data"
      ]
    },
    {
      "cell_type": "code",
      "execution_count": 31,
      "metadata": {
        "id": "9yaMMa8VDQdI"
      },
      "outputs": [
        {
          "name": "stdout",
          "output_type": "stream",
          "text": [
            "tensor([7, 2, 1, 0, 4, 1, 9, 9, 0, 9, 0, 6, 9, 0, 1, 3, 9, 7, 3, 4, 9, 6, 6, 5,\n",
            "        4, 0, 7, 4, 0, 1, 3, 1, 3, 6, 7, 2, 7, 1, 2, 1, 1, 7, 4, 2, 3, 5, 3, 6,\n",
            "        4, 4, 6, 3, 5, 3, 6, 0, 4, 1, 9, 7, 7, 8, 9, 3, 9, 4, 0, 4, 3, 0, 7, 0,\n",
            "        2, 8, 1, 7, 3, 7, 9, 7, 7, 6, 2, 7, 9, 4, 7, 3, 6, 1, 3, 6, 9, 3, 1, 4,\n",
            "        1, 9, 6, 9, 6, 0, 5, 4, 9, 9, 2, 1, 9, 4, 8, 7, 3, 9, 9, 9, 4, 4, 9, 8,\n",
            "        5, 4, 7, 6, 9, 4, 0, 5])\n"
          ]
        }
      ],
      "source": [
        "_, predicted = torch.max(outputs, 1)  # 동일 1순위 값이 있을 때 앞에 있는 index를 출력\n",
        "print(predicted)"
      ]
    },
    {
      "cell_type": "code",
      "execution_count": 32,
      "metadata": {
        "id": "qOQWilyPOja5"
      },
      "outputs": [
        {
          "name": "stdout",
          "output_type": "stream",
          "text": [
            "7\t2\t1\t0\t\n"
          ]
        }
      ],
      "source": [
        "print(''.join('{}\\t'.format(str(predicted[j].numpy())) for j in range(4)))"
      ]
    },
    {
      "cell_type": "code",
      "execution_count": 8,
      "metadata": {
        "id": "T1qsc9TUDQfk"
      },
      "outputs": [
        {
          "name": "stdout",
          "output_type": "stream",
          "text": [
            "83.48\n"
          ]
        }
      ],
      "source": [
        "# accuracy 계산\n",
        "\n",
        "correct = 0\n",
        "total = 0\n",
        "\n",
        "with torch.no_grad():\n",
        "    for data in test_loader:\n",
        "        images, labels = data\n",
        "        outputs = net(images)\n",
        "        _, predicted = torch.max(outputs.data, 1)\n",
        "        total += labels.size(0)   # batch size 더함\n",
        "        correct += (predicted == labels).sum().item()\n",
        "\n",
        "print(100 * correct / total) "
      ]
    },
    {
      "cell_type": "markdown",
      "metadata": {
        "id": "HQBRrbueR94k"
      },
      "source": [
        "## GPU 설정 후 학습\n",
        "- 설정 후, 모델과 데이터에 `to`로 GPU를 사용 가능한 형태로 변환 해줘야 한다.\n",
        "\n",
        "- `.cuda()` 로도 가능"
      ]
    },
    {
      "cell_type": "code",
      "execution_count": 34,
      "metadata": {
        "id": "uaO3lXxRjslc"
      },
      "outputs": [],
      "source": [
        "import torch\n",
        "import torch.nn as nn\n",
        "import torch.nn.functional as F\n",
        "import torch.optim as optim\n",
        "from torch.utils.data import Dataset, DataLoader\n",
        "\n",
        "import torchvision\n",
        "import torchvision.datasets\n",
        "import torchvision.transforms as transforms\n",
        "\n",
        "import numpy as np\n",
        "import matplotlib.pyplot as plt\n",
        "plt.style.use('seaborn-white')"
      ]
    },
    {
      "cell_type": "markdown",
      "metadata": {
        "id": "02LdHlTTSz5L"
      },
      "source": [
        "- 현재 GPU 설정"
      ]
    },
    {
      "cell_type": "code",
      "execution_count": 35,
      "metadata": {
        "id": "Ybsjn80uSx3X"
      },
      "outputs": [
        {
          "data": {
            "text/plain": [
              "True"
            ]
          },
          "execution_count": 35,
          "metadata": {},
          "output_type": "execute_result"
        }
      ],
      "source": [
        "torch.cuda.is_available()"
      ]
    },
    {
      "cell_type": "code",
      "execution_count": 36,
      "metadata": {
        "id": "HlPZI5wfDQhv"
      },
      "outputs": [],
      "source": [
        "use_cuda = torch.cuda.is_available()\n",
        "device = torch.device(\"cuda\" if use_cuda else \"cpu\")"
      ]
    },
    {
      "cell_type": "code",
      "execution_count": 37,
      "metadata": {
        "id": "ykIP4ceaSCib"
      },
      "outputs": [
        {
          "data": {
            "text/plain": [
              "device(type='cuda')"
            ]
          },
          "execution_count": 37,
          "metadata": {},
          "output_type": "execute_result"
        }
      ],
      "source": [
        "device"
      ]
    },
    {
      "cell_type": "markdown",
      "metadata": {
        "id": "JZ6fOMoakAIi"
      },
      "source": [
        "- 데이터 로드\n"
      ]
    },
    {
      "cell_type": "code",
      "execution_count": 52,
      "metadata": {
        "id": "WUwhAT3IkBbN"
      },
      "outputs": [],
      "source": [
        "transform = transforms.Compose([transforms.ToTensor(), transforms.Normalize((0.5,), (0.5,))])\n",
        "\n",
        "trainset = torchvision.datasets.MNIST(root='./data', train=True, download=True, transform=transform)\n",
        "testset = torchvision.datasets.MNIST(root='./data', train=False, download=True, transform=transform)\n",
        "\n",
        "train_loader = DataLoader(trainset, batch_size=128, shuffle=True, num_workers=2)\n",
        "test_loader = DataLoader(testset, batch_size=128, shuffle=False, num_workers=2)"
      ]
    },
    {
      "cell_type": "markdown",
      "metadata": {
        "id": "34WyPzrzS8Cd"
      },
      "source": [
        "- 모델 생성"
      ]
    },
    {
      "cell_type": "code",
      "execution_count": 53,
      "metadata": {
        "id": "lpFTp1Tbjyeb"
      },
      "outputs": [
        {
          "name": "stdout",
          "output_type": "stream",
          "text": [
            "Net(\n",
            "  (conv1): Conv2d(1, 6, kernel_size=(3, 3), stride=(1, 1))\n",
            "  (conv2): Conv2d(6, 16, kernel_size=(3, 3), stride=(1, 1))\n",
            "  (fc1): Linear(in_features=400, out_features=120, bias=True)\n",
            "  (fc2): Linear(in_features=120, out_features=84, bias=True)\n",
            "  (fc3): Linear(in_features=84, out_features=10, bias=True)\n",
            ")\n"
          ]
        }
      ],
      "source": [
        "class Net(nn.Module):\n",
        "    \n",
        "    def __init__(self):\n",
        "        super(Net, self).__init__()\n",
        "\n",
        "        self.conv1 = nn.Conv2d(1, 6, 3)\n",
        "        self.conv2 = nn.Conv2d(6, 16, 3)\n",
        "        self.fc1 = nn.Linear(16 * 5 * 5, 120)\n",
        "        self.fc2 = nn.Linear(120, 84)\n",
        "        self.fc3 = nn.Linear(84, 10)\n",
        "\n",
        "    def forward(self, x):\n",
        "        x = F.max_pool2d(F.relu(self.conv1(x)), (2, 2))\n",
        "        x = F.max_pool2d(F.relu(self.conv2(x)), (2, 2))\n",
        "        x = x.view(-1, self.num_flat_features(x))\n",
        "        x = F.relu(self.fc1(x))\n",
        "        x = F.relu(self.fc2(x))\n",
        "        x = self.fc3(x)\n",
        "        return x\n",
        "\n",
        "    def num_flat_features(self, x):\n",
        "        size = x.size()[1:]\n",
        "        num_features = 1\n",
        "        for s in size:\n",
        "            num_features *= s\n",
        "\n",
        "        return num_features\n",
        "\n",
        "net = Net()\n",
        "print(net)\n"
      ]
    },
    {
      "cell_type": "code",
      "execution_count": 54,
      "metadata": {
        "id": "BndKyGxnSCXK"
      },
      "outputs": [],
      "source": [
        "net = Net().to(device)"
      ]
    },
    {
      "cell_type": "code",
      "execution_count": 55,
      "metadata": {
        "id": "aHWkPKpRSxYW"
      },
      "outputs": [],
      "source": [
        "criterion = nn.CrossEntropyLoss()\n",
        "optimizer = optim.SGD(net.parameters(), lr=0.001, momentum=0.9)"
      ]
    },
    {
      "cell_type": "code",
      "execution_count": 57,
      "metadata": {
        "id": "-3dCbF7DSxWC"
      },
      "outputs": [
        {
          "name": "stdout",
          "output_type": "stream",
          "text": [
            "Epoch: 1, Iter: 100, Loss: 0.5636289289593697\n",
            "Epoch: 1, Iter: 200, Loss: 0.46902904868125916\n",
            "Epoch: 1, Iter: 300, Loss: 0.4109480382502079\n",
            "Epoch: 1, Iter: 400, Loss: 0.3939298060536385\n",
            "Epoch: 2, Iter: 100, Loss: 0.3268948245048523\n",
            "Epoch: 2, Iter: 200, Loss: 0.307376526594162\n",
            "Epoch: 2, Iter: 300, Loss: 0.2791161112487316\n",
            "Epoch: 2, Iter: 400, Loss: 0.2795764730870724\n"
          ]
        }
      ],
      "source": [
        "for epoch in range(2):\n",
        "\n",
        "    running_loss = 0.0\n",
        "    for i, data in enumerate(train_loader, 0):\n",
        "        inputs, labels = data[0].to(device), data[1].to(device) # GPU 상에서 돌릴 때는 data를 GPU로 보내줘야함\n",
        "\n",
        "        optimizer.zero_grad()\n",
        "\n",
        "        outputs = net(inputs)\n",
        "        loss = criterion(outputs, labels)\n",
        "        loss.backward()\n",
        "        optimizer.step()\n",
        "\n",
        "        running_loss += loss.item()\n",
        "        if i % 100 == 99:\n",
        "            print(\"Epoch: {}, Iter: {}, Loss: {}\".format(epoch+1, i+1, running_loss/100))\n",
        "            running_loss = 0.0"
      ]
    },
    {
      "cell_type": "code",
      "execution_count": 58,
      "metadata": {
        "id": "v5-a95lgSxUH"
      },
      "outputs": [
        {
          "name": "stdout",
          "output_type": "stream",
          "text": [
            "92.62\n"
          ]
        }
      ],
      "source": [
        "correct = 0\n",
        "total = 0\n",
        "\n",
        "with torch.no_grad():\n",
        "    for data in test_loader:\n",
        "        images, labels = data[0].to(device), data[1].to(device)\n",
        "        outputs = net(images)\n",
        "        _, predicted = torch.max(outputs.data, 1)\n",
        "        total += labels.size(0)\n",
        "        correct += (predicted == labels).sum().item()\n",
        "\n",
        "print(100 * correct / total)"
      ]
    }
  ],
  "metadata": {
    "colab": {
      "collapsed_sections": [],
      "name": "_10.1 파이토치 MNIST 모델.ipynb",
      "provenance": []
    },
    "kernelspec": {
      "display_name": "Python 3",
      "name": "python3"
    },
    "language_info": {
      "codemirror_mode": {
        "name": "ipython",
        "version": 3
      },
      "file_extension": ".py",
      "mimetype": "text/x-python",
      "name": "python",
      "nbconvert_exporter": "python",
      "pygments_lexer": "ipython3",
      "version": "3.9.7"
    }
  },
  "nbformat": 4,
  "nbformat_minor": 0
}
