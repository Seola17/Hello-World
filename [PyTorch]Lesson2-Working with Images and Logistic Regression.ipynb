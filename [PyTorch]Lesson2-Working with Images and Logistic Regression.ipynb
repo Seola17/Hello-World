{
 "cells": [
  {
   "cell_type": "code",
   "execution_count": 1,
   "metadata": {},
   "outputs": [],
   "source": [
    "import torch\n",
    "import torch.nn as nn \n",
    "import torch.nn.functional as F\n",
    "\n",
    "import torchvision\n",
    "from torchvision.datasets import MNIST\n",
    "import torchvision.transforms as transforms\n",
    "\n",
    "from torch.utils.data import random_split\n",
    "from torch.utils.data import DataLoader\n"
   ]
  },
  {
   "cell_type": "code",
   "execution_count": 2,
   "metadata": {},
   "outputs": [
    {
     "name": "stdout",
     "output_type": "stream",
     "text": [
      "tensor([[1., 4.],\n",
      "        [2., 1.]])\n",
      "tensor([[0.0474, 0.9526],\n",
      "        [0.7311, 0.2689]])\n"
     ]
    },
    {
     "data": {
      "text/plain": [
       "torch.return_types.max(\n",
       "values=tensor([0.9526, 0.7311]),\n",
       "indices=tensor([1, 0]))"
      ]
     },
     "execution_count": 2,
     "metadata": {},
     "output_type": "execute_result"
    }
   ],
   "source": [
    "### softmax dimension 0 or 1\n",
    "outputs = torch.tensor([[1., 4],  [2, 1]])\n",
    "print(outputs)\n",
    "probs = F.softmax(outputs, dim=1).data\n",
    "print(probs)\n",
    "torch.max(probs, dim=1)"
   ]
  },
  {
   "cell_type": "code",
   "execution_count": 3,
   "metadata": {},
   "outputs": [
    {
     "name": "stdout",
     "output_type": "stream",
     "text": [
      "60000\n",
      "10000\n",
      "(<PIL.Image.Image image mode=L size=28x28 at 0x267AA1E8C70>, 5)\n"
     ]
    }
   ],
   "source": [
    "### Download the datasets\n",
    "\n",
    "dataset = MNIST(root='data/', download=True)\n",
    "print(len(dataset))\n",
    "# 60000 training examples (10000 of them will be set as validation examples)\n",
    "\n",
    "test_dataset = MNIST(root='data/', train=False)\n",
    "print(len(test_dataset))\n",
    "# 10000 test examples\n",
    "\n",
    "print(dataset[0])\n",
    "# dataset is a pair of 28x28px img (PIL.Image.Image object) & label."
   ]
  },
  {
   "cell_type": "code",
   "execution_count": 4,
   "metadata": {},
   "outputs": [
    {
     "name": "stdout",
     "output_type": "stream",
     "text": [
      "Label: 5\n"
     ]
    },
    {
     "data": {
      "image/png": "[encoded data removed]",
      "text/plain": [
       "<Figure size 432x288 with 1 Axes>"
      ]
     },
     "metadata": {
      "needs_background": "light"
     },
     "output_type": "display_data"
    }
   ],
   "source": [
    "### visualizing the dataset\n",
    "import matplotlib.pyplot as plt\n",
    "%matplotlib inline\n",
    "\n",
    "image, label = dataset[0]\n",
    "plt.imshow(image, cmap='gray')\n",
    "print('Label:',label)"
   ]
  },
  {
   "cell_type": "code",
   "execution_count": 5,
   "metadata": {},
   "outputs": [],
   "source": [
    "### Prepare the datasets and dataloader in PyTorch tensor\n",
    "\n",
    "dataset = MNIST(root='data/', train=True, transform=transforms.ToTensor())\n",
    "# img_tensor & label\n",
    "\n",
    "train_ds, val_ds = random_split(dataset, [50000, 10000])\n",
    "test_ds = MNIST(root='data/', train=False, transform=transforms.ToTensor())\n",
    "\n",
    "# create data loacders to load the data in batches (randomly)\n",
    "batch_size = 128\n",
    "train_loader = DataLoader(train_ds, batch_size, shuffle=True)\n",
    "val_loader = DataLoader(val_ds, batch_size)"
   ]
  },
  {
   "cell_type": "code",
   "execution_count": 6,
   "metadata": {},
   "outputs": [
    {
     "data": {
      "text/plain": [
       "torch.Size([128, 1, 28, 28])"
      ]
     },
     "execution_count": 6,
     "metadata": {},
     "output_type": "execute_result"
    }
   ],
   "source": [
    "for images, labesl in train_loader:\n",
    "    break\n",
    "images.shape"
   ]
  },
  {
   "cell_type": "code",
   "execution_count": 7,
   "metadata": {},
   "outputs": [
    {
     "name": "stdout",
     "output_type": "stream",
     "text": [
      "tensor([[ 0.2595, -0.1676,  0.0709,  ..., -0.2886, -0.0500, -0.0768],\n",
      "        [ 0.1087,  0.2250,  0.0792,  ...,  0.0142, -0.2137,  0.1818],\n",
      "        [ 0.4075,  0.3955,  0.0151,  ..., -0.0822,  0.0297,  0.1132],\n",
      "        ...,\n",
      "        [ 0.3497, -0.0737, -0.0167,  ..., -0.0469,  0.1133, -0.0098],\n",
      "        [ 0.2593, -0.1952,  0.1152,  ...,  0.0030,  0.0611,  0.0406],\n",
      "        [ 0.4891,  0.0855,  0.0954,  ..., -0.2282, -0.0248,  0.0454]],\n",
      "       grad_fn=<AddmmBackward0>)\n"
     ]
    }
   ],
   "source": [
    "### Put the images into a model\n",
    "\n",
    "input_size, num_classes = 28*28, 10\n",
    "\n",
    "model = nn.Linear(input_size, num_classes)\n",
    "# weights, bias created by calling nn.Linear: randomly sampled and requires_grad=True\n",
    "\n",
    "for images, labels in train_loader:\n",
    "    images_rs = images.reshape(128, 784)\n",
    "    # model accepts only 2-dim tensors\n",
    "    outputs = model(images_rs)\n",
    "    print(outputs)\n",
    "    break"
   ]
  },
  {
   "cell_type": "code",
   "execution_count": 8,
   "metadata": {},
   "outputs": [],
   "source": [
    "### Customize nn.Module with fixed input size\n",
    "\n",
    "class MnistModel(nn.Module):\n",
    "    def __init__(self):\n",
    "        super().__init__()\n",
    "        self.linear = nn.Linear(input_size, num_classes)\n",
    "\n",
    "    def forward(self, xb):\n",
    "        xb = xb.reshape(-1, 784)\n",
    "        out = self.linear(xb)\n",
    "        return out\n",
    "\n",
    "model = MnistModel()\n",
    "\n",
    "# print(model.linear.weight.shape, model.linear.bias.shape)\n",
    "# list(model.parameters())"
   ]
  },
  {
   "cell_type": "code",
   "execution_count": 53,
   "metadata": {},
   "outputs": [
    {
     "name": "stdout",
     "output_type": "stream",
     "text": [
      "torch.Size([80, 10])\n",
      "tensor([2, 1, 5, 3, 6, 1, 3, 9, 2, 3, 4, 5, 8, 9, 6, 7, 4, 4, 5, 6, 1, 0, 3, 1,\n",
      "        7, 9, 0, 8, 0, 3, 4, 7, 9, 5, 1, 9, 7, 6, 9, 5, 6, 5, 4, 2, 8, 8, 6, 6,\n",
      "        3, 3, 2, 0, 5, 4, 9, 0, 3, 8, 9, 8, 3, 9, 4, 6, 3, 6, 9, 0, 0, 8, 3, 8,\n",
      "        6, 3, 1, 1, 3, 9, 1, 3])\n",
      "tensor([0.5128, 0.8478, 0.4936, 0.8479, 0.7290, 0.9210, 0.8505, 0.2570, 0.9865,\n",
      "        0.6553, 0.4720, 0.6785, 0.6464, 0.5795, 0.2237, 0.2824, 0.8577, 0.4257,\n",
      "        0.2593, 0.8978, 0.8789, 0.9146, 0.4853, 0.3508, 0.9190, 0.7314, 0.8891,\n",
      "        0.4119, 0.8302, 0.8402, 0.7926, 0.5347, 0.4726, 0.5938, 0.8396, 0.5278,\n",
      "        0.8381, 0.6596, 0.3383, 0.3210, 0.8462, 0.7854, 0.3570, 0.2531, 0.4766,\n",
      "        0.2935, 0.4134, 0.5087, 0.3562, 0.7510, 0.8916, 0.8745, 0.7332, 0.9625,\n",
      "        0.3420, 0.8052, 0.6535, 0.3737, 0.6417, 0.6567, 0.7434, 0.6067, 0.7098,\n",
      "        0.8454, 0.4953, 0.6978, 0.7346, 0.9702, 0.9659, 0.4092, 0.6797, 0.4639,\n",
      "        0.7864, 0.9554, 0.8914, 0.7930, 0.5376, 0.4461, 0.7445, 0.6782],\n",
      "       grad_fn=<MaxBackward0>)\n"
     ]
    }
   ],
   "source": [
    "### Prediction\n",
    "\n",
    "for images, labels in train_loader:\n",
    "    outputs = model(images)\n",
    "    print(outputs.shape)\n",
    "\n",
    "\n",
    "probs = F.softmax(outputs, dim=1)\n",
    "\n",
    "max_probs, preds = torch.max(probs, dim=1)\n",
    "print(preds)\n",
    "print(max_probs)"
   ]
  },
  {
   "cell_type": "code",
   "execution_count": 10,
   "metadata": {},
   "outputs": [
    {
     "data": {
      "text/plain": [
       "tensor(0.0703)"
      ]
     },
     "execution_count": 10,
     "metadata": {},
     "output_type": "execute_result"
    }
   ],
   "source": [
    "### Evaluation 1 : Accuracy\n",
    "# boolean based evaluation metric; why not good as loss function?\n",
    "\n",
    "def accuracy(outputs, labels):\n",
    "    _, preds = torch.max(outputs, dim=1)\n",
    "    return torch.tensor(torch.sum(preds == labels).item() / len(preds))\n",
    "\n",
    "accuracy(outputs, labels)\n",
    "\n",
    "# not differentiable (torch.max, '==') = gradient descent not applicable\n",
    "# does not take the probability(or confidence) into account"
   ]
  },
  {
   "cell_type": "code",
   "execution_count": 11,
   "metadata": {},
   "outputs": [
    {
     "name": "stdout",
     "output_type": "stream",
     "text": [
      "tensor(2.3372, grad_fn=<NllLossBackward0>)\n"
     ]
    }
   ],
   "source": [
    "### Evaluation 2 : Cross-Entropy\n",
    "# cross-entropy : negative logarithm of the predicted probability of the correct label\n",
    "\n",
    "loss_fun = F.cross_entropy\n",
    "loss = loss_fun(outputs, labels)\n",
    "print(loss)"
   ]
  },
  {
   "cell_type": "markdown",
   "metadata": {},
   "source": [
    "Training the model\n",
    "\n",
    "```\n",
    "for epoch in range(num_epochs):\n",
    "    # Training phase\n",
    "    for bath in train_loader:\n",
    "        # Generate predictions\n",
    "        # Calculate loss\n",
    "        # Compute gradients\n",
    "        # Update weights\n",
    "        # Reset gradients\n",
    "\n",
    "    # Validation phase\n",
    "    for batch in val_loader:\n",
    "        # Generate \n",
    "        # Calculate loss\n",
    "    \n",
    "    # Calculate average validation loss & metrics\n",
    "\n",
    "    # Log epoch, loss & metrics for inspection\n",
    "```"
   ]
  },
  {
   "cell_type": "code",
   "execution_count": 12,
   "metadata": {},
   "outputs": [],
   "source": [
    "### Training the model\n",
    "\n",
    "def fit(epochs, lr, model, train_loader, val_loader, opt_func=torch.optim.SGD):\n",
    "    optimizer = opt_func(model.parameters(), lr)\n",
    "    history = [] # for recording epoch-wise results\n",
    "\n",
    "    for epoch in range(epochs):\n",
    "\n",
    "        # Training phase\n",
    "        for batch in train_loader:\n",
    "            loss = model.training_step(batch)\n",
    "            loss.backward()\n",
    "            optimizer.step()        # change the weights\n",
    "            optimizer.zero_grad()   # gradients = 0\n",
    "\n",
    "        # Validation phase\n",
    "        result = evaluate(model, val_loader)\n",
    "        model.epoch_end(epoch, result)\n",
    "        history.append(result)\n",
    "\n",
    "    return history"
   ]
  },
  {
   "cell_type": "code",
   "execution_count": 21,
   "metadata": {},
   "outputs": [],
   "source": [
    "def evaluate(model, val_loader):\n",
    "    outputs = [model.validation_step(batch) for batch in val_loader]\n",
    "    return model.validation_epoch_end(outputs)"
   ]
  },
  {
   "cell_type": "code",
   "execution_count": 17,
   "metadata": {},
   "outputs": [],
   "source": [
    "class MnistModel(nn.Module):\n",
    "    def __init__(self):\n",
    "        super().__init__()\n",
    "        self.linear = nn.Linear(input_size, num_classes)\n",
    "        \n",
    "    def forward(self, xb):\n",
    "        xb = xb.reshape(-1, 784)\n",
    "        out = self.linear(xb)\n",
    "        return out\n",
    "    \n",
    "    def training_step(self, batch):\n",
    "        images, labels = batch \n",
    "        out = self(images)                  # Generate predictions\n",
    "        loss = F.cross_entropy(out, labels) # Calculate loss\n",
    "        return loss\n",
    "    \n",
    "    def validation_step(self, batch):\n",
    "        images, labels = batch \n",
    "        out = self(images)                    # Generate predictions\n",
    "        loss = F.cross_entropy(out, labels)   # Calculate loss\n",
    "        acc = accuracy(out, labels)           # Calculate accuracy\n",
    "        return {'val_loss': loss, 'val_acc': acc}\n",
    "        \n",
    "    def validation_epoch_end(self, outputs):\n",
    "        batch_losses = [x['val_loss'] for x in outputs]\n",
    "        epoch_loss = torch.stack(batch_losses).mean()   # Combine losses\n",
    "        batch_accs = [x['val_acc'] for x in outputs]\n",
    "        epoch_acc = torch.stack(batch_accs).mean()      # Combine accuracies\n",
    "        return {'val_loss': epoch_loss.item(), 'val_acc': epoch_acc.item()}\n",
    "\n",
    "    def epoch_end(self, epoch, result):\n",
    "        print(\"Epoch [{}], val_loss: {:.4f}, val_acc: {:.4f}\".format(epoch, result['val_loss'], result['val_acc']))\n",
    "\n",
    "model = MnistModel()"
   ]
  },
  {
   "cell_type": "code",
   "execution_count": 22,
   "metadata": {},
   "outputs": [
    {
     "data": {
      "text/plain": [
       "{'val_loss': 1.9447888135910034, 'val_acc': 0.6297468543052673}"
      ]
     },
     "execution_count": 22,
     "metadata": {},
     "output_type": "execute_result"
    }
   ],
   "source": [
    "result0 = evaluate(model, val_loader)\n",
    "result0"
   ]
  },
  {
   "cell_type": "code",
   "execution_count": 24,
   "metadata": {},
   "outputs": [
    {
     "name": "stdout",
     "output_type": "stream",
     "text": [
      "Epoch [0], val_loss: 1.0500, val_acc: 0.8095\n",
      "Epoch [1], val_loss: 0.9904, val_acc: 0.8140\n",
      "Epoch [2], val_loss: 0.9408, val_acc: 0.8178\n",
      "Epoch [3], val_loss: 0.8988, val_acc: 0.8219\n",
      "Epoch [4], val_loss: 0.8629, val_acc: 0.8254\n"
     ]
    }
   ],
   "source": [
    "history1 = fit(5, 0.001, model, train_loader, val_loader)"
   ]
  },
  {
   "cell_type": "code",
   "execution_count": 26,
   "metadata": {},
   "outputs": [
    {
     "name": "stdout",
     "output_type": "stream",
     "text": [
      "Epoch [0], val_loss: 0.8317, val_acc: 0.8288\n",
      "Epoch [1], val_loss: 0.8045, val_acc: 0.8314\n",
      "Epoch [2], val_loss: 0.7804, val_acc: 0.8346\n",
      "Epoch [3], val_loss: 0.7589, val_acc: 0.8361\n",
      "Epoch [4], val_loss: 0.7397, val_acc: 0.8390\n"
     ]
    }
   ],
   "source": [
    "history2 = fit(5, 0.001, model, train_loader, val_loader)"
   ]
  },
  {
   "cell_type": "code",
   "execution_count": 27,
   "metadata": {},
   "outputs": [
    {
     "name": "stdout",
     "output_type": "stream",
     "text": [
      "Epoch [0], val_loss: 0.7223, val_acc: 0.8404\n",
      "Epoch [1], val_loss: 0.7066, val_acc: 0.8427\n",
      "Epoch [2], val_loss: 0.6923, val_acc: 0.8440\n",
      "Epoch [3], val_loss: 0.6791, val_acc: 0.8448\n",
      "Epoch [4], val_loss: 0.6669, val_acc: 0.8467\n"
     ]
    }
   ],
   "source": [
    "history3 = fit(5, 0.001, model, train_loader, val_loader)"
   ]
  },
  {
   "cell_type": "code",
   "execution_count": 28,
   "metadata": {},
   "outputs": [
    {
     "name": "stdout",
     "output_type": "stream",
     "text": [
      "Epoch [0], val_loss: 0.6557, val_acc: 0.8476\n",
      "Epoch [1], val_loss: 0.6453, val_acc: 0.8486\n",
      "Epoch [2], val_loss: 0.6357, val_acc: 0.8501\n",
      "Epoch [3], val_loss: 0.6266, val_acc: 0.8522\n",
      "Epoch [4], val_loss: 0.6182, val_acc: 0.8534\n"
     ]
    }
   ],
   "source": [
    "history4 = fit(5, 0.001, model, train_loader, val_loader)"
   ]
  },
  {
   "cell_type": "code",
   "execution_count": 29,
   "metadata": {},
   "outputs": [
    {
     "data": {
      "image/png": "[encoded data removed]",
      "text/plain": [
       "<Figure size 432x288 with 1 Axes>"
      ]
     },
     "metadata": {
      "needs_background": "light"
     },
     "output_type": "display_data"
    }
   ],
   "source": [
    "history = [result0] + history1 + history2 + history3 + history4\n",
    "accuracies = [result['val_acc'] for result in history]\n",
    "plt.plot(accuracies, '-x')\n",
    "plt.xlabel('epoch')\n",
    "plt.ylabel('accuracy')\n",
    "plt.title('Accuracy vs. No. of epochs');"
   ]
  },
  {
   "cell_type": "code",
   "execution_count": 36,
   "metadata": {},
   "outputs": [
    {
     "name": "stdout",
     "output_type": "stream",
     "text": [
      "Shape: torch.Size([1, 28, 28])\n",
      "Label: 7\n"
     ]
    },
    {
     "data": {
      "image/png": "[encoded data removed]",
      "text/plain": [
       "<Figure size 432x288 with 1 Axes>"
      ]
     },
     "metadata": {
      "needs_background": "light"
     },
     "output_type": "display_data"
    }
   ],
   "source": [
    "### Testing with individual images\n",
    "\n",
    "test_dataset = MNIST(root='data/', train=False, transform=transforms.ToTensor())\n",
    "\n",
    "img, label = test_dataset[0]\n",
    "plt.imshow(img[0], cmap='gray')\n",
    "print('Shape:', img.shape)\n",
    "print('Label:', label)"
   ]
  },
  {
   "cell_type": "code",
   "execution_count": 39,
   "metadata": {},
   "outputs": [
    {
     "data": {
      "text/plain": [
       "torch.Size([1, 1, 28, 28])"
      ]
     },
     "execution_count": 39,
     "metadata": {},
     "output_type": "execute_result"
    }
   ],
   "source": [
    "img.unsqueeze(0).shape"
   ]
  },
  {
   "cell_type": "code",
   "execution_count": 40,
   "metadata": {},
   "outputs": [],
   "source": [
    "def predict_image(img, model):\n",
    "    xb = img.unsqueeze(0)\n",
    "    yb = model(xb)\n",
    "    _, preds = torch.max(yb, dim=1)\n",
    "    return preds[0].item() "
   ]
  },
  {
   "cell_type": "code",
   "execution_count": 41,
   "metadata": {},
   "outputs": [
    {
     "name": "stdout",
     "output_type": "stream",
     "text": [
      "Label: 7 , Predicted: 7\n"
     ]
    },
    {
     "data": {
      "image/png": "[encoded data removed]",
      "text/plain": [
       "<Figure size 432x288 with 1 Axes>"
      ]
     },
     "metadata": {
      "needs_background": "light"
     },
     "output_type": "display_data"
    }
   ],
   "source": [
    "img, label = test_dataset[0]\n",
    "plt.imshow(img[0], cmap='gray')\n",
    "print('Label:', label, ', Predicted:', predict_image(img, model))"
   ]
  },
  {
   "cell_type": "code",
   "execution_count": 42,
   "metadata": {},
   "outputs": [
    {
     "name": "stdout",
     "output_type": "stream",
     "text": [
      "Label: 0 , Predicted: 0\n"
     ]
    },
    {
     "data": {
      "image/png": "[encoded data removed]",
      "text/plain": [
       "<Figure size 432x288 with 1 Axes>"
      ]
     },
     "metadata": {
      "needs_background": "light"
     },
     "output_type": "display_data"
    }
   ],
   "source": [
    "img, label = test_dataset[10]\n",
    "plt.imshow(img[0], cmap='gray')\n",
    "print('Label:', label, ', Predicted:', predict_image(img, model))"
   ]
  },
  {
   "cell_type": "code",
   "execution_count": 43,
   "metadata": {},
   "outputs": [
    {
     "name": "stdout",
     "output_type": "stream",
     "text": [
      "Label: 9 , Predicted: 9\n"
     ]
    },
    {
     "data": {
      "image/png": "[encoded data removed]",
      "text/plain": [
       "<Figure size 432x288 with 1 Axes>"
      ]
     },
     "metadata": {
      "needs_background": "light"
     },
     "output_type": "display_data"
    }
   ],
   "source": [
    "img, label = test_dataset[193]\n",
    "plt.imshow(img[0], cmap='gray')\n",
    "print('Label:', label, ', Predicted:', predict_image(img, model))"
   ]
  },
  {
   "cell_type": "code",
   "execution_count": 44,
   "metadata": {},
   "outputs": [
    {
     "name": "stdout",
     "output_type": "stream",
     "text": [
      "Label: 2 , Predicted: 8\n"
     ]
    },
    {
     "data": {
      "image/png": "[encoded data removed]",
      "text/plain": [
       "<Figure size 432x288 with 1 Axes>"
      ]
     },
     "metadata": {
      "needs_background": "light"
     },
     "output_type": "display_data"
    }
   ],
   "source": [
    "img, label = test_dataset[1839]\n",
    "plt.imshow(img[0], cmap='gray')\n",
    "print('Label:', label, ', Predicted:', predict_image(img, model))"
   ]
  },
  {
   "cell_type": "code",
   "execution_count": 46,
   "metadata": {},
   "outputs": [
    {
     "data": {
      "text/plain": [
       "{'val_loss': 0.5775555372238159, 'val_acc': 0.867968738079071}"
      ]
     },
     "execution_count": 46,
     "metadata": {},
     "output_type": "execute_result"
    }
   ],
   "source": [
    "test_loader = DataLoader(test_dataset, batch_size=256)\n",
    "result = evaluate(model, test_loader)\n",
    "result"
   ]
  },
  {
   "cell_type": "code",
   "execution_count": 49,
   "metadata": {},
   "outputs": [
    {
     "name": "stdout",
     "output_type": "stream",
     "text": [
      "{'val_loss': 2.317476987838745, 'val_acc': 0.10800781100988388}\n",
      "{'val_loss': 0.5775555372238159, 'val_acc': 0.867968738079071}\n"
     ]
    }
   ],
   "source": [
    "### Saving and Loading the model\n",
    "\n",
    "torch.save(model.state_dict(), 'mnist-logistic.pth') # weights and bias\n",
    "\n",
    "model2 = MnistModel() # initiated model\n",
    "print(evaluate(model2, test_loader))\n",
    "\n",
    "model2.load_state_dict(torch.load('mnist-logistic.pth'))\n",
    "print(evaluate(model2, test_loader))"
   ]
  },
  {
   "cell_type": "code",
   "execution_count": null,
   "metadata": {},
   "outputs": [],
   "source": []
  }
 ],
 "metadata": {
  "interpreter": {
   "hash": "6d46af94c2bbce495f1e668725902fa517c90b1782bcfe2fce0dd9868df553d3"
  },
  "kernelspec": {
   "display_name": "Python 3.9.7 ('base')",
   "language": "python",
   "name": "python3"
  },
  "language_info": {
   "codemirror_mode": {
    "name": "ipython",
    "version": 3
   },
   "file_extension": ".py",
   "mimetype": "text/x-python",
   "name": "python",
   "nbconvert_exporter": "python",
   "pygments_lexer": "ipython3",
   "version": "3.9.7"
  },
  "orig_nbformat": 4
 },
 "nbformat": 4,
 "nbformat_minor": 2
}
