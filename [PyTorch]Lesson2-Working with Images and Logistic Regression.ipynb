{
 "cells": [
  {
   "cell_type": "code",
   "execution_count": 1,
   "metadata": {},
   "outputs": [],
   "source": [
    "import torch\n",
    "import torch.nn as nn \n",
    "import torch.nn.functional as F\n",
    "\n",
    "import torchvision\n",
    "from torchvision.datasets import MNIST\n",
    "import torchvision.transforms as transforms\n",
    "\n",
    "from torch.utils.data import random_split\n",
    "from torch.utils.data import DataLoader\n"
   ]
  },
  {
   "cell_type": "code",
   "execution_count": 2,
   "metadata": {},
   "outputs": [
    {
     "name": "stdout",
     "output_type": "stream",
     "text": [
      "tensor([[1., 4.],\n",
      "        [2., 1.]])\n",
      "tensor([[0.0474, 0.9526],\n",
      "        [0.7311, 0.2689]])\n"
     ]
    },
    {
     "data": {
      "text/plain": [
       "torch.return_types.max(\n",
       "values=tensor([0.9526, 0.7311]),\n",
       "indices=tensor([1, 0]))"
      ]
     },
     "execution_count": 2,
     "metadata": {},
     "output_type": "execute_result"
    }
   ],
   "source": [
    "### softmax dimension 0 or 1\n",
    "outputs = torch.tensor([[1., 4],  [2, 1]])\n",
    "print(outputs)\n",
    "probs = F.softmax(outputs, dim=1).data\n",
    "print(probs)\n",
    "torch.max(probs, dim=1)"
   ]
  },
  {
   "cell_type": "code",
   "execution_count": 3,
   "metadata": {},
   "outputs": [
    {
     "name": "stdout",
     "output_type": "stream",
     "text": [
      "60000\n",
      "10000\n",
      "(<PIL.Image.Image image mode=L size=28x28 at 0x267AA1E8C70>, 5)\n"
     ]
    }
   ],
   "source": [
    "### Download the datasets\n",
    "\n",
    "dataset = MNIST(root='data/', download=True)\n",
    "print(len(dataset))\n",
    "# 60000 training examples (10000 of them will be set as validation examples)\n",
    "\n",
    "test_dataset = MNIST(root='data/', train=False)\n",
    "print(len(test_dataset))\n",
    "# 10000 test examples\n",
    "\n",
    "print(dataset[0])\n",
    "# dataset is a pair of 28x28px img (PIL.Image.Image object) & label."
   ]
  },
  {
   "cell_type": "code",
   "execution_count": 4,
   "metadata": {},
   "outputs": [
    {
     "name": "stdout",
     "output_type": "stream",
     "text": [
      "Label: 5\n"
     ]
    },
    {
     "data": {
      "image/png": "[encoded data removed]",
      "text/plain": [
       "<Figure size 432x288 with 1 Axes>"
      ]
     },
     "metadata": {
      "needs_background": "light"
     },
     "output_type": "display_data"
    }
   ],
   "source": [
    "### visualizing the dataset\n",
    "import matplotlib.pyplot as plt\n",
    "%matplotlib inline\n",
    "\n",
    "image, label = dataset[0]\n",
    "plt.imshow(image, cmap='gray')\n",
    "print('Label:',label)"
   ]
  },
  {
   "cell_type": "code",
   "execution_count": 5,
   "metadata": {},
   "outputs": [],
   "source": [
    "### Prepare the datasets and dataloader in PyTorch tensor\n",
    "\n",
    "dataset = MNIST(root='data/', train=True, transform=transforms.ToTensor())\n",
    "# img_tensor & label\n",
    "\n",
    "train_ds, val_ds = random_split(dataset, [50000, 10000])\n",
    "test_ds = MNIST(root='data/', train=False, transform=transforms.ToTensor())\n",
    "\n",
    "# create data loacders to load the data in batches (randomly)\n",
    "batch_size = 128\n",
    "train_loader = DataLoader(train_ds, batch_size, shuffle=True)\n",
    "val_loader = DataLoader(val_ds, batch_size)"
   ]
  },
  {
   "cell_type": "code",
   "execution_count": 6,
   "metadata": {},
   "outputs": [
    {
     "data": {
      "text/plain": [
       "torch.Size([128, 1, 28, 28])"
      ]
     },
     "execution_count": 6,
     "metadata": {},
     "output_type": "execute_result"
    }
   ],
   "source": [
    "for images, labesl in train_loader:\n",
    "    break\n",
    "images.shape"
   ]
  },
  {
   "cell_type": "code",
   "execution_count": 7,
   "metadata": {},
   "outputs": [
    {
     "name": "stdout",
     "output_type": "stream",
     "text": [
      "tensor([[ 0.2595, -0.1676,  0.0709,  ..., -0.2886, -0.0500, -0.0768],\n",
      "        [ 0.1087,  0.2250,  0.0792,  ...,  0.0142, -0.2137,  0.1818],\n",
      "        [ 0.4075,  0.3955,  0.0151,  ..., -0.0822,  0.0297,  0.1132],\n",
      "        ...,\n",
      "        [ 0.3497, -0.0737, -0.0167,  ..., -0.0469,  0.1133, -0.0098],\n",
      "        [ 0.2593, -0.1952,  0.1152,  ...,  0.0030,  0.0611,  0.0406],\n",
      "        [ 0.4891,  0.0855,  0.0954,  ..., -0.2282, -0.0248,  0.0454]],\n",
      "       grad_fn=<AddmmBackward0>)\n"
     ]
    }
   ],
   "source": [
    "### Put the images into a model\n",
    "\n",
    "input_size, num_classes = 28*28, 10\n",
    "\n",
    "model = nn.Linear(input_size, num_classes)\n",
    "# weights, bias created by calling nn.Linear: randomly sampled and requires_grad=True\n",
    "\n",
    "for images, labels in train_loader:\n",
    "    images_rs = images.reshape(128, 784)\n",
    "    # model accepts only 2-dim tensors\n",
    "    outputs = model(images_rs)\n",
    "    print(outputs)\n",
    "    break"
   ]
  },
  {
   "cell_type": "code",
   "execution_count": 8,
   "metadata": {},
   "outputs": [],
   "source": [
    "### Customize nn.Module with fixed input size\n",
    "\n",
    "class MnistModel(nn.Module):\n",
    "    def __init__(self):\n",
    "        super().__init__()\n",
    "        self.linear = nn.Linear(input_size, num_classes)\n",
    "\n",
    "    def forward(self, xb):\n",
    "        xb = xb.reshape(-1, 784)\n",
    "        out = self.linear(xb)\n",
    "        return out\n",
    "\n",
    "model = MnistModel()\n",
    "\n",
    "# print(model.linear.weight.shape, model.linear.bias.shape)\n",
    "# list(model.parameters())"
   ]
  },
  {
   "cell_type": "code",
   "execution_count": 9,
   "metadata": {},
   "outputs": [
    {
     "name": "stdout",
     "output_type": "stream",
     "text": [
      "tensor([5, 3, 5, 5, 5, 3, 5, 1, 1, 1, 8, 8, 8, 5, 7, 8, 1, 8, 9, 7, 5, 5, 8, 9,\n",
      "        9, 3, 5, 8, 9, 1, 3, 8, 9, 8, 8, 8, 8, 1, 6, 5, 5, 6, 9, 8, 8, 8, 7, 1,\n",
      "        8, 5, 7, 3, 5, 6, 8, 8, 5, 9, 7, 8, 5, 8, 8, 2, 8, 3, 7, 9, 5, 5, 1, 1,\n",
      "        1, 8, 8, 5, 8, 3, 1, 3, 7, 1, 5, 5, 3, 9, 6, 8, 1, 9, 8, 8, 1, 1, 9, 5,\n",
      "        8, 9, 5, 8, 5, 8, 9, 1, 5, 9, 5, 8, 5, 8, 5, 5, 9, 1, 9, 5, 5, 3, 8, 7,\n",
      "        3, 2, 8, 8, 8, 5, 5, 8])\n",
      "tensor([0.1420, 0.1284, 0.1302, 0.1200, 0.1161, 0.1386, 0.1400, 0.1272, 0.1348,\n",
      "        0.1244, 0.1379, 0.1271, 0.1275, 0.1409, 0.1224, 0.1379, 0.1265, 0.1390,\n",
      "        0.1394, 0.1195, 0.1226, 0.1232, 0.1151, 0.1171, 0.1484, 0.1248, 0.1271,\n",
      "        0.1286, 0.1139, 0.1179, 0.1333, 0.1190, 0.1260, 0.1103, 0.1243, 0.1223,\n",
      "        0.1408, 0.1187, 0.1300, 0.1293, 0.1158, 0.1256, 0.1196, 0.1493, 0.1157,\n",
      "        0.1346, 0.1186, 0.1216, 0.1255, 0.1160, 0.1191, 0.1264, 0.1345, 0.1275,\n",
      "        0.1474, 0.1323, 0.1217, 0.1301, 0.1259, 0.1280, 0.1302, 0.1186, 0.1198,\n",
      "        0.1169, 0.1290, 0.1198, 0.1179, 0.1274, 0.1369, 0.1225, 0.1127, 0.1320,\n",
      "        0.1278, 0.1314, 0.1383, 0.1288, 0.1336, 0.1293, 0.1207, 0.1233, 0.1550,\n",
      "        0.1132, 0.1237, 0.1258, 0.1262, 0.1242, 0.1284, 0.1316, 0.1358, 0.1125,\n",
      "        0.1380, 0.1208, 0.1248, 0.1410, 0.1227, 0.1430, 0.1414, 0.1272, 0.1328,\n",
      "        0.1247, 0.1229, 0.1389, 0.1212, 0.1418, 0.1193, 0.1167, 0.1353, 0.1304,\n",
      "        0.1097, 0.1269, 0.1127, 0.1215, 0.1401, 0.1139, 0.1161, 0.1372, 0.1335,\n",
      "        0.1163, 0.1196, 0.1216, 0.1179, 0.1150, 0.1237, 0.1399, 0.1421, 0.1439,\n",
      "        0.1283, 0.1283], grad_fn=<MaxBackward0>)\n"
     ]
    }
   ],
   "source": [
    "### Prediction\n",
    "\n",
    "for images, labels in train_loader:\n",
    "    outputs = model(images)\n",
    "    break\n",
    "\n",
    "probs = F.softmax(outputs, dim=1)\n",
    "\n",
    "max_probs, preds = torch.max(probs, dim=1)\n",
    "print(preds)\n",
    "print(max_probs)"
   ]
  },
  {
   "cell_type": "code",
   "execution_count": 10,
   "metadata": {},
   "outputs": [
    {
     "data": {
      "text/plain": [
       "tensor(0.0703)"
      ]
     },
     "execution_count": 10,
     "metadata": {},
     "output_type": "execute_result"
    }
   ],
   "source": [
    "### Evaluation 1 : Accuracy\n",
    "# boolean based evaluation metric; why not good as loss function?\n",
    "\n",
    "def accuracy(outputs, labels):\n",
    "    _, preds = torch.max(outputs, dim=1)\n",
    "    return torch.tensor(torch.sum(preds == labels).item() / len(preds))\n",
    "\n",
    "accuracy(outputs, labels)\n",
    "\n",
    "# not differentiable (torch.max, '==') = gradient descent not applicable\n",
    "# does not take the probability(or confidence) into account"
   ]
  },
  {
   "cell_type": "code",
   "execution_count": 11,
   "metadata": {},
   "outputs": [
    {
     "name": "stdout",
     "output_type": "stream",
     "text": [
      "tensor(2.3372, grad_fn=<NllLossBackward0>)\n"
     ]
    }
   ],
   "source": [
    "### Evaluation 2 : Cross-Entropy\n",
    "# cross-entropy : negative logarithm of the predicted probability of the correct label\n",
    "\n",
    "loss_fun = F.cross_entropy\n",
    "loss = loss_fun(outputs, labels)\n",
    "print(loss)"
   ]
  },
  {
   "cell_type": "markdown",
   "metadata": {},
   "source": [
    "Training the model\n",
    "\n",
    "```\n",
    "for epoch in range(num_epochs):\n",
    "    # Training phase\n",
    "    for bath in train_loader:\n",
    "        # Generate predictions\n",
    "        # Calculate loss\n",
    "        # Compute gradients\n",
    "        # Update weights\n",
    "        # Reset gradients\n",
    "\n",
    "    # Validation phase\n",
    "    for batch in val_loader:\n",
    "        # Generate \n",
    "        # Calculate loss\n",
    "    \n",
    "    # Calculate average validation loss & metrics\n",
    "\n",
    "    # Log epoch, loss & metrics for inspection\n",
    "```"
   ]
  },
  {
   "cell_type": "code",
   "execution_count": 12,
   "metadata": {},
   "outputs": [],
   "source": [
    "### Training the model\n",
    "\n",
    "def fit(epochs, lr, model, train_loader, val_loader, opt_func=torch.optim.SGD):\n",
    "    optimizer = opt_func(model.parameters(), lr)\n",
    "    history = [] # for recording epoch-wise results\n",
    "\n",
    "    for epoch in range(epochs):\n",
    "\n",
    "        # Training phase\n",
    "        for batch in train_loader:\n",
    "            loss = model.training_step(batch)\n",
    "            loss.backward()\n",
    "            optimizer.step()        # change the weights\n",
    "            optimizer.zero_grad()   # gradients = 0\n",
    "\n",
    "        # Validation phase\n",
    "        result = evaluate(model, val_loader)\n",
    "        model.epoch_end(epoch, result)\n",
    "        history.append(result)\n",
    "\n",
    "    return history"
   ]
  },
  {
   "cell_type": "code",
   "execution_count": 21,
   "metadata": {},
   "outputs": [],
   "source": [
    "def evaluate(model, val_loader):\n",
    "    outputs = [model.validation_step(batch) for batch in val_loader]\n",
    "    return model.validation_epoch_end(outputs)"
   ]
  },
  {
   "cell_type": "code",
   "execution_count": 17,
   "metadata": {},
   "outputs": [],
   "source": [
    "class MnistModel(nn.Module):\n",
    "    def __init__(self):\n",
    "        super().__init__()\n",
    "        self.linear = nn.Linear(input_size, num_classes)\n",
    "        \n",
    "    def forward(self, xb):\n",
    "        xb = xb.reshape(-1, 784)\n",
    "        out = self.linear(xb)\n",
    "        return out\n",
    "    \n",
    "    def training_step(self, batch):\n",
    "        images, labels = batch \n",
    "        out = self(images)                  # Generate predictions\n",
    "        loss = F.cross_entropy(out, labels) # Calculate loss\n",
    "        return loss\n",
    "    \n",
    "    def validation_step(self, batch):\n",
    "        images, labels = batch \n",
    "        out = self(images)                    # Generate predictions\n",
    "        loss = F.cross_entropy(out, labels)   # Calculate loss\n",
    "        acc = accuracy(out, labels)           # Calculate accuracy\n",
    "        return {'val_loss': loss, 'val_acc': acc}\n",
    "        \n",
    "    def validation_epoch_end(self, outputs):\n",
    "        batch_losses = [x['val_loss'] for x in outputs]\n",
    "        epoch_loss = torch.stack(batch_losses).mean()   # Combine losses\n",
    "        batch_accs = [x['val_acc'] for x in outputs]\n",
    "        epoch_acc = torch.stack(batch_accs).mean()      # Combine accuracies\n",
    "        return {'val_loss': epoch_loss.item(), 'val_acc': epoch_acc.item()}\n",
    "\n",
    "    def epoch_end(self, epoch, result):\n",
    "        print(\"Epoch [{}], val_loss: {:.4f}, val_acc: {:.4f}\".format(epoch, result['val_loss'], result['val_acc']))\n",
    "\n",
    "model = MnistModel()"
   ]
  },
  {
   "cell_type": "code",
   "execution_count": 22,
   "metadata": {},
   "outputs": [
    {
     "data": {
      "text/plain": [
       "{'val_loss': 1.9447888135910034, 'val_acc': 0.6297468543052673}"
      ]
     },
     "execution_count": 22,
     "metadata": {},
     "output_type": "execute_result"
    }
   ],
   "source": [
    "result0 = evaluate(model, val_loader)\n",
    "result0"
   ]
  },
  {
   "cell_type": "code",
   "execution_count": 24,
   "metadata": {},
   "outputs": [
    {
     "name": "stdout",
     "output_type": "stream",
     "text": [
      "Epoch [0], val_loss: 1.0500, val_acc: 0.8095\n",
      "Epoch [1], val_loss: 0.9904, val_acc: 0.8140\n",
      "Epoch [2], val_loss: 0.9408, val_acc: 0.8178\n",
      "Epoch [3], val_loss: 0.8988, val_acc: 0.8219\n",
      "Epoch [4], val_loss: 0.8629, val_acc: 0.8254\n"
     ]
    }
   ],
   "source": [
    "history1 = fit(5, 0.001, model, train_loader, val_loader)"
   ]
  },
  {
   "cell_type": "code",
   "execution_count": 26,
   "metadata": {},
   "outputs": [
    {
     "name": "stdout",
     "output_type": "stream",
     "text": [
      "Epoch [0], val_loss: 0.8317, val_acc: 0.8288\n",
      "Epoch [1], val_loss: 0.8045, val_acc: 0.8314\n",
      "Epoch [2], val_loss: 0.7804, val_acc: 0.8346\n",
      "Epoch [3], val_loss: 0.7589, val_acc: 0.8361\n",
      "Epoch [4], val_loss: 0.7397, val_acc: 0.8390\n"
     ]
    }
   ],
   "source": [
    "history2 = fit(5, 0.001, model, train_loader, val_loader)"
   ]
  },
  {
   "cell_type": "code",
   "execution_count": 27,
   "metadata": {},
   "outputs": [
    {
     "name": "stdout",
     "output_type": "stream",
     "text": [
      "Epoch [0], val_loss: 0.7223, val_acc: 0.8404\n",
      "Epoch [1], val_loss: 0.7066, val_acc: 0.8427\n",
      "Epoch [2], val_loss: 0.6923, val_acc: 0.8440\n",
      "Epoch [3], val_loss: 0.6791, val_acc: 0.8448\n",
      "Epoch [4], val_loss: 0.6669, val_acc: 0.8467\n"
     ]
    }
   ],
   "source": [
    "history3 = fit(5, 0.001, model, train_loader, val_loader)"
   ]
  },
  {
   "cell_type": "code",
   "execution_count": 28,
   "metadata": {},
   "outputs": [
    {
     "name": "stdout",
     "output_type": "stream",
     "text": [
      "Epoch [0], val_loss: 0.6557, val_acc: 0.8476\n",
      "Epoch [1], val_loss: 0.6453, val_acc: 0.8486\n",
      "Epoch [2], val_loss: 0.6357, val_acc: 0.8501\n",
      "Epoch [3], val_loss: 0.6266, val_acc: 0.8522\n",
      "Epoch [4], val_loss: 0.6182, val_acc: 0.8534\n"
     ]
    }
   ],
   "source": [
    "history4 = fit(5, 0.001, model, train_loader, val_loader)"
   ]
  },
  {
   "cell_type": "code",
   "execution_count": 29,
   "metadata": {},
   "outputs": [
    {
     "data": {
      "image/png": "[encoded data removed]",
      "text/plain": [
       "<Figure size 432x288 with 1 Axes>"
      ]
     },
     "metadata": {
      "needs_background": "light"
     },
     "output_type": "display_data"
    }
   ],
   "source": [
    "history = [result0] + history1 + history2 + history3 + history4\n",
    "accuracies = [result['val_acc'] for result in history]\n",
    "plt.plot(accuracies, '-x')\n",
    "plt.xlabel('epoch')\n",
    "plt.ylabel('accuracy')\n",
    "plt.title('Accuracy vs. No. of epochs');"
   ]
  },
  {
   "cell_type": "code",
   "execution_count": null,
   "metadata": {},
   "outputs": [],
   "source": []
  }
 ],
 "metadata": {
  "interpreter": {
   "hash": "6d46af94c2bbce495f1e668725902fa517c90b1782bcfe2fce0dd9868df553d3"
  },
  "kernelspec": {
   "display_name": "Python 3.9.7 ('base')",
   "language": "python",
   "name": "python3"
  },
  "language_info": {
   "codemirror_mode": {
    "name": "ipython",
    "version": 3
   },
   "file_extension": ".py",
   "mimetype": "text/x-python",
   "name": "python",
   "nbconvert_exporter": "python",
   "pygments_lexer": "ipython3",
   "version": "3.9.7"
  },
  "orig_nbformat": 4
 },
 "nbformat": 4,
 "nbformat_minor": 2
}
